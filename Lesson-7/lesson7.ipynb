{
  "nbformat": 4,
  "nbformat_minor": 0,
  "metadata": {
    "colab": {
      "name": "lesson7.ipynb",
      "version": "0.3.2",
      "provenance": []
    },
    "kernelspec": {
      "name": "python3",
      "display_name": "Python 3"
    }
  },
  "cells": [
    {
      "cell_type": "code",
      "metadata": {
        "id": "PVss79Dyg2R9",
        "colab_type": "code",
        "colab": {}
      },
      "source": [
        "import torch as th"
      ],
      "execution_count": 0,
      "outputs": []
    },
    {
      "cell_type": "code",
      "metadata": {
        "id": "_HVCepidjmJO",
        "colab_type": "code",
        "outputId": "85e9cdd8-c47b-4da6-a073-5c39747b64be",
        "colab": {
          "base_uri": "https://localhost:8080/",
          "height": 34
        }
      },
      "source": [
        "x = th.tensor([1,2,3,4,5])\n",
        "x"
      ],
      "execution_count": 7,
      "outputs": [
        {
          "output_type": "execute_result",
          "data": {
            "text/plain": [
              "tensor([1, 2, 3, 4, 5])"
            ]
          },
          "metadata": {
            "tags": []
          },
          "execution_count": 7
        }
      ]
    },
    {
      "cell_type": "code",
      "metadata": {
        "id": "UJbzefATjpMu",
        "colab_type": "code",
        "colab": {}
      },
      "source": [
        "y = x + x"
      ],
      "execution_count": 0,
      "outputs": []
    },
    {
      "cell_type": "code",
      "metadata": {
        "id": "f8y-i3ZdjqvT",
        "colab_type": "code",
        "outputId": "006268bf-b15b-42a2-f5e0-2433dec28b47",
        "colab": {
          "base_uri": "https://localhost:8080/",
          "height": 34
        }
      },
      "source": [
        "print(y)"
      ],
      "execution_count": 9,
      "outputs": [
        {
          "output_type": "stream",
          "text": [
            "tensor([ 2,  4,  6,  8, 10])\n"
          ],
          "name": "stdout"
        }
      ]
    },
    {
      "cell_type": "code",
      "metadata": {
        "id": "dptfA8WNgl9h",
        "colab_type": "code",
        "outputId": "43910ed3-3fc0-4ccb-ffb0-6bb449ee452f",
        "colab": {
          "base_uri": "https://localhost:8080/",
          "height": 1000
        }
      },
      "source": [
        "!pip install syft"
      ],
      "execution_count": 10,
      "outputs": [
        {
          "output_type": "stream",
          "text": [
            "Collecting syft\n",
            "  Using cached https://files.pythonhosted.org/packages/ef/49/1262a301e9db38f4822fa9e0e3b15831c86af9eaeb43b2b0aea3d0c6e1a1/syft-0.1.22a1-py3-none-any.whl\n",
            "Collecting lz4>=2.1.6 (from syft)\n",
            "\u001b[?25l  Downloading https://files.pythonhosted.org/packages/0a/c6/96bbb3525a63ebc53ea700cc7d37ab9045542d33b4d262d0f0408ad9bbf2/lz4-2.1.10-cp36-cp36m-manylinux1_x86_64.whl (385kB)\n",
            "\r\u001b[K     |▉                               | 10kB 13.0MB/s eta 0:00:01\r\u001b[K     |█▊                              | 20kB 3.3MB/s eta 0:00:01\r\u001b[K     |██▌                             | 30kB 4.8MB/s eta 0:00:01\r\u001b[K     |███▍                            | 40kB 3.1MB/s eta 0:00:01\r\u001b[K     |████▎                           | 51kB 3.8MB/s eta 0:00:01\r\u001b[K     |█████                           | 61kB 4.5MB/s eta 0:00:01\r\u001b[K     |██████                          | 71kB 5.2MB/s eta 0:00:01\r\u001b[K     |██████▉                         | 81kB 5.8MB/s eta 0:00:01\r\u001b[K     |███████▋                        | 92kB 6.4MB/s eta 0:00:01\r\u001b[K     |████████▌                       | 102kB 5.0MB/s eta 0:00:01\r\u001b[K     |█████████▍                      | 112kB 5.0MB/s eta 0:00:01\r\u001b[K     |██████████▏                     | 122kB 5.0MB/s eta 0:00:01\r\u001b[K     |███████████                     | 133kB 5.0MB/s eta 0:00:01\r\u001b[K     |████████████                    | 143kB 5.0MB/s eta 0:00:01\r\u001b[K     |████████████▊                   | 153kB 5.0MB/s eta 0:00:01\r\u001b[K     |█████████████▋                  | 163kB 5.0MB/s eta 0:00:01\r\u001b[K     |██████████████▌                 | 174kB 5.0MB/s eta 0:00:01\r\u001b[K     |███████████████▎                | 184kB 5.0MB/s eta 0:00:01\r\u001b[K     |████████████████▏               | 194kB 5.0MB/s eta 0:00:01\r\u001b[K     |█████████████████               | 204kB 5.0MB/s eta 0:00:01\r\u001b[K     |█████████████████▉              | 215kB 5.0MB/s eta 0:00:01\r\u001b[K     |██████████████████▊             | 225kB 5.0MB/s eta 0:00:01\r\u001b[K     |███████████████████▋            | 235kB 5.0MB/s eta 0:00:01\r\u001b[K     |████████████████████▍           | 245kB 5.0MB/s eta 0:00:01\r\u001b[K     |█████████████████████▎          | 256kB 5.0MB/s eta 0:00:01\r\u001b[K     |██████████████████████▏         | 266kB 5.0MB/s eta 0:00:01\r\u001b[K     |███████████████████████         | 276kB 5.0MB/s eta 0:00:01\r\u001b[K     |███████████████████████▉        | 286kB 5.0MB/s eta 0:00:01\r\u001b[K     |████████████████████████▊       | 296kB 5.0MB/s eta 0:00:01\r\u001b[K     |█████████████████████████▌      | 307kB 5.0MB/s eta 0:00:01\r\u001b[K     |██████████████████████████▍     | 317kB 5.0MB/s eta 0:00:01\r\u001b[K     |███████████████████████████▎    | 327kB 5.0MB/s eta 0:00:01\r\u001b[K     |████████████████████████████    | 337kB 5.0MB/s eta 0:00:01\r\u001b[K     |█████████████████████████████   | 348kB 5.0MB/s eta 0:00:01\r\u001b[K     |█████████████████████████████▊  | 358kB 5.0MB/s eta 0:00:01\r\u001b[K     |██████████████████████████████▋ | 368kB 5.0MB/s eta 0:00:01\r\u001b[K     |███████████████████████████████▌| 378kB 5.0MB/s eta 0:00:01\r\u001b[K     |████████████████████████████████| 389kB 5.0MB/s \n",
            "\u001b[?25hRequirement already satisfied: tblib>=1.4.0 in /usr/local/lib/python3.6/dist-packages (from syft) (1.4.0)\n",
            "Requirement already satisfied: Flask>=1.0.2 in /usr/local/lib/python3.6/dist-packages (from syft) (1.1.1)\n",
            "Requirement already satisfied: torchvision>=0.3.0 in /usr/local/lib/python3.6/dist-packages (from syft) (0.3.0)\n",
            "Collecting websockets>=7.0 (from syft)\n",
            "\u001b[?25l  Downloading https://files.pythonhosted.org/packages/f0/4b/ad228451b1c071c5c52616b7d4298ebcfcac5ae8515ede959db19e4cd56d/websockets-8.0.2-cp36-cp36m-manylinux1_x86_64.whl (72kB)\n",
            "\r\u001b[K     |████▌                           | 10kB 14.9MB/s eta 0:00:01\r\u001b[K     |█████████                       | 20kB 21.1MB/s eta 0:00:01\r\u001b[K     |█████████████▋                  | 30kB 27.5MB/s eta 0:00:01\r\u001b[K     |██████████████████              | 40kB 32.3MB/s eta 0:00:01\r\u001b[K     |██████████████████████▋         | 51kB 35.7MB/s eta 0:00:01\r\u001b[K     |███████████████████████████▏    | 61kB 39.3MB/s eta 0:00:01\r\u001b[K     |███████████████████████████████▋| 71kB 41.9MB/s eta 0:00:01\r\u001b[K     |████████████████████████████████| 81kB 26.7MB/s \n",
            "\u001b[?25hCollecting tf-encrypted!=0.5.7,>=0.5.4 (from syft)\n",
            "  Using cached https://files.pythonhosted.org/packages/07/ce/da9916e7e78f736894b15538b702c0b213fd5d60a7fd6e481d74033a90c0/tf_encrypted-0.5.6-py3-none-manylinux1_x86_64.whl\n",
            "Requirement already satisfied: torch>=1.1 in /usr/local/lib/python3.6/dist-packages (from syft) (1.1.0)\n",
            "Requirement already satisfied: numpy>=1.14.0 in /usr/local/lib/python3.6/dist-packages (from syft) (1.16.4)\n",
            "Collecting zstd>=1.4.0.0 (from syft)\n",
            "\u001b[?25l  Downloading https://files.pythonhosted.org/packages/22/37/6a7ba746ebddbd6cd06de84367515d6bc239acd94fb3e0b1c85788176ca2/zstd-1.4.1.0.tar.gz (454kB)\n",
            "\r\u001b[K     |▊                               | 10kB 14.7MB/s eta 0:00:01\r\u001b[K     |█▍                              | 20kB 21.1MB/s eta 0:00:01\r\u001b[K     |██▏                             | 30kB 27.1MB/s eta 0:00:01\r\u001b[K     |██▉                             | 40kB 31.2MB/s eta 0:00:01\r\u001b[K     |███▋                            | 51kB 34.9MB/s eta 0:00:01\r\u001b[K     |████▎                           | 61kB 38.7MB/s eta 0:00:01\r\u001b[K     |█████                           | 71kB 41.4MB/s eta 0:00:01\r\u001b[K     |█████▊                          | 81kB 43.1MB/s eta 0:00:01\r\u001b[K     |██████▌                         | 92kB 45.4MB/s eta 0:00:01\r\u001b[K     |███████▏                        | 102kB 47.3MB/s eta 0:00:01\r\u001b[K     |████████                        | 112kB 47.3MB/s eta 0:00:01\r\u001b[K     |████████▋                       | 122kB 47.3MB/s eta 0:00:01\r\u001b[K     |█████████▍                      | 133kB 47.3MB/s eta 0:00:01\r\u001b[K     |██████████                      | 143kB 47.3MB/s eta 0:00:01\r\u001b[K     |██████████▉                     | 153kB 47.3MB/s eta 0:00:01\r\u001b[K     |███████████▌                    | 163kB 47.3MB/s eta 0:00:01\r\u001b[K     |████████████▎                   | 174kB 47.3MB/s eta 0:00:01\r\u001b[K     |█████████████                   | 184kB 47.3MB/s eta 0:00:01\r\u001b[K     |█████████████▊                  | 194kB 47.3MB/s eta 0:00:01\r\u001b[K     |██████████████▍                 | 204kB 47.3MB/s eta 0:00:01\r\u001b[K     |███████████████▏                | 215kB 47.3MB/s eta 0:00:01\r\u001b[K     |███████████████▉                | 225kB 47.3MB/s eta 0:00:01\r\u001b[K     |████████████████▋               | 235kB 47.3MB/s eta 0:00:01\r\u001b[K     |█████████████████▎              | 245kB 47.3MB/s eta 0:00:01\r\u001b[K     |██████████████████              | 256kB 47.3MB/s eta 0:00:01\r\u001b[K     |██████████████████▊             | 266kB 47.3MB/s eta 0:00:01\r\u001b[K     |███████████████████▌            | 276kB 47.3MB/s eta 0:00:01\r\u001b[K     |████████████████████▏           | 286kB 47.3MB/s eta 0:00:01\r\u001b[K     |█████████████████████           | 296kB 47.3MB/s eta 0:00:01\r\u001b[K     |█████████████████████▋          | 307kB 47.3MB/s eta 0:00:01\r\u001b[K     |██████████████████████▍         | 317kB 47.3MB/s eta 0:00:01\r\u001b[K     |███████████████████████         | 327kB 47.3MB/s eta 0:00:01\r\u001b[K     |███████████████████████▉        | 337kB 47.3MB/s eta 0:00:01\r\u001b[K     |████████████████████████▌       | 348kB 47.3MB/s eta 0:00:01\r\u001b[K     |█████████████████████████▎      | 358kB 47.3MB/s eta 0:00:01\r\u001b[K     |██████████████████████████      | 368kB 47.3MB/s eta 0:00:01\r\u001b[K     |██████████████████████████▊     | 378kB 47.3MB/s eta 0:00:01\r\u001b[K     |███████████████████████████▍    | 389kB 47.3MB/s eta 0:00:01\r\u001b[K     |████████████████████████████▏   | 399kB 47.3MB/s eta 0:00:01\r\u001b[K     |████████████████████████████▉   | 409kB 47.3MB/s eta 0:00:01\r\u001b[K     |█████████████████████████████▋  | 419kB 47.3MB/s eta 0:00:01\r\u001b[K     |██████████████████████████████▎ | 430kB 47.3MB/s eta 0:00:01\r\u001b[K     |███████████████████████████████ | 440kB 47.3MB/s eta 0:00:01\r\u001b[K     |███████████████████████████████▊| 450kB 47.3MB/s eta 0:00:01\r\u001b[K     |████████████████████████████████| 460kB 47.3MB/s \n",
            "\u001b[?25hCollecting flask-socketio>=3.3.2 (from syft)\n",
            "  Downloading https://files.pythonhosted.org/packages/66/44/edc4715af85671b943c18ac8345d0207972284a0cd630126ff5251faa08b/Flask_SocketIO-4.2.1-py2.py3-none-any.whl\n",
            "Requirement already satisfied: scikit-learn>=0.21.0 in /usr/local/lib/python3.6/dist-packages (from syft) (0.21.3)\n",
            "Collecting msgpack>=0.6.1 (from syft)\n",
            "\u001b[?25l  Downloading https://files.pythonhosted.org/packages/92/7e/ae9e91c1bb8d846efafd1f353476e3fd7309778b582d2fb4cea4cc15b9a2/msgpack-0.6.1-cp36-cp36m-manylinux1_x86_64.whl (248kB)\n",
            "\r\u001b[K     |█▎                              | 10kB 15.6MB/s eta 0:00:01\r\u001b[K     |██▋                             | 20kB 22.8MB/s eta 0:00:01\r\u001b[K     |████                            | 30kB 29.6MB/s eta 0:00:01\r\u001b[K     |█████▎                          | 40kB 33.2MB/s eta 0:00:01\r\u001b[K     |██████▋                         | 51kB 36.2MB/s eta 0:00:01\r\u001b[K     |████████                        | 61kB 39.9MB/s eta 0:00:01\r\u001b[K     |█████████▏                      | 71kB 41.5MB/s eta 0:00:01\r\u001b[K     |██████████▌                     | 81kB 42.7MB/s eta 0:00:01\r\u001b[K     |███████████▉                    | 92kB 45.0MB/s eta 0:00:01\r\u001b[K     |█████████████▏                  | 102kB 46.5MB/s eta 0:00:01\r\u001b[K     |██████████████▌                 | 112kB 46.5MB/s eta 0:00:01\r\u001b[K     |███████████████▉                | 122kB 46.5MB/s eta 0:00:01\r\u001b[K     |█████████████████▏              | 133kB 46.5MB/s eta 0:00:01\r\u001b[K     |██████████████████▍             | 143kB 46.5MB/s eta 0:00:01\r\u001b[K     |███████████████████▊            | 153kB 46.5MB/s eta 0:00:01\r\u001b[K     |█████████████████████           | 163kB 46.5MB/s eta 0:00:01\r\u001b[K     |██████████████████████▍         | 174kB 46.5MB/s eta 0:00:01\r\u001b[K     |███████████████████████▊        | 184kB 46.5MB/s eta 0:00:01\r\u001b[K     |█████████████████████████       | 194kB 46.5MB/s eta 0:00:01\r\u001b[K     |██████████████████████████▍     | 204kB 46.5MB/s eta 0:00:01\r\u001b[K     |███████████████████████████▋    | 215kB 46.5MB/s eta 0:00:01\r\u001b[K     |█████████████████████████████   | 225kB 46.5MB/s eta 0:00:01\r\u001b[K     |██████████████████████████████▎ | 235kB 46.5MB/s eta 0:00:01\r\u001b[K     |███████████████████████████████▋| 245kB 46.5MB/s eta 0:00:01\r\u001b[K     |████████████████████████████████| 256kB 46.5MB/s \n",
            "\u001b[?25hCollecting websocket-client>=0.56.0 (from syft)\n",
            "\u001b[?25l  Downloading https://files.pythonhosted.org/packages/29/19/44753eab1fdb50770ac69605527e8859468f3c0fd7dc5a76dd9c4dbd7906/websocket_client-0.56.0-py2.py3-none-any.whl (200kB)\n",
            "\r\u001b[K     |█▋                              | 10kB 17.5MB/s eta 0:00:01\r\u001b[K     |███▎                            | 20kB 25.5MB/s eta 0:00:01\r\u001b[K     |█████                           | 30kB 31.8MB/s eta 0:00:01\r\u001b[K     |██████▌                         | 40kB 36.8MB/s eta 0:00:01\r\u001b[K     |████████▏                       | 51kB 40.5MB/s eta 0:00:01\r\u001b[K     |█████████▉                      | 61kB 43.6MB/s eta 0:00:01\r\u001b[K     |███████████▍                    | 71kB 45.9MB/s eta 0:00:01\r\u001b[K     |█████████████                   | 81kB 47.8MB/s eta 0:00:01\r\u001b[K     |██████████████▊                 | 92kB 50.5MB/s eta 0:00:01\r\u001b[K     |████████████████▍               | 102kB 52.4MB/s eta 0:00:01\r\u001b[K     |██████████████████              | 112kB 52.4MB/s eta 0:00:01\r\u001b[K     |███████████████████▋            | 122kB 52.4MB/s eta 0:00:01\r\u001b[K     |█████████████████████▎          | 133kB 52.4MB/s eta 0:00:01\r\u001b[K     |██████████████████████▉         | 143kB 52.4MB/s eta 0:00:01\r\u001b[K     |████████████████████████▌       | 153kB 52.4MB/s eta 0:00:01\r\u001b[K     |██████████████████████████▏     | 163kB 52.4MB/s eta 0:00:01\r\u001b[K     |███████████████████████████▊    | 174kB 52.4MB/s eta 0:00:01\r\u001b[K     |█████████████████████████████▍  | 184kB 52.4MB/s eta 0:00:01\r\u001b[K     |███████████████████████████████ | 194kB 52.4MB/s eta 0:00:01\r\u001b[K     |████████████████████████████████| 204kB 52.4MB/s \n",
            "\u001b[?25hRequirement already satisfied: itsdangerous>=0.24 in /usr/local/lib/python3.6/dist-packages (from Flask>=1.0.2->syft) (1.1.0)\n",
            "Requirement already satisfied: Werkzeug>=0.15 in /usr/local/lib/python3.6/dist-packages (from Flask>=1.0.2->syft) (0.15.5)\n",
            "Requirement already satisfied: click>=5.1 in /usr/local/lib/python3.6/dist-packages (from Flask>=1.0.2->syft) (7.0)\n",
            "Requirement already satisfied: Jinja2>=2.10.1 in /usr/local/lib/python3.6/dist-packages (from Flask>=1.0.2->syft) (2.10.1)\n",
            "Requirement already satisfied: six in /usr/local/lib/python3.6/dist-packages (from torchvision>=0.3.0->syft) (1.12.0)\n",
            "Requirement already satisfied: pillow>=4.1.1 in /usr/local/lib/python3.6/dist-packages (from torchvision>=0.3.0->syft) (4.3.0)\n",
            "Requirement already satisfied: tensorflow<2,>=1.12.0 in /usr/local/lib/python3.6/dist-packages (from tf-encrypted!=0.5.7,>=0.5.4->syft) (1.14.0)\n",
            "Collecting pyyaml>=5.1 (from tf-encrypted!=0.5.7,>=0.5.4->syft)\n",
            "\u001b[?25l  Downloading https://files.pythonhosted.org/packages/e3/e8/b3212641ee2718d556df0f23f78de8303f068fe29cdaa7a91018849582fe/PyYAML-5.1.2.tar.gz (265kB)\n",
            "\u001b[K     |████████████████████████████████| 266kB 58kB/s \n",
            "\u001b[?25hCollecting python-socketio>=4.3.0 (from flask-socketio>=3.3.2->syft)\n",
            "\u001b[?25l  Downloading https://files.pythonhosted.org/packages/35/b0/22c3f785f23fec5c7a815f47c55d7e7946a67ae2129ff604148e939d3bdb/python_socketio-4.3.1-py2.py3-none-any.whl (49kB)\n",
            "\u001b[K     |████████████████████████████████| 51kB 18.7MB/s \n",
            "\u001b[?25hRequirement already satisfied: scipy>=0.17.0 in /usr/local/lib/python3.6/dist-packages (from scikit-learn>=0.21.0->syft) (1.3.0)\n",
            "Requirement already satisfied: joblib>=0.11 in /usr/local/lib/python3.6/dist-packages (from scikit-learn>=0.21.0->syft) (0.13.2)\n",
            "Requirement already satisfied: MarkupSafe>=0.23 in /usr/local/lib/python3.6/dist-packages (from Jinja2>=2.10.1->Flask>=1.0.2->syft) (1.1.1)\n",
            "Requirement already satisfied: olefile in /usr/local/lib/python3.6/dist-packages (from pillow>=4.1.1->torchvision>=0.3.0->syft) (0.46)\n",
            "Requirement already satisfied: termcolor>=1.1.0 in /usr/local/lib/python3.6/dist-packages (from tensorflow<2,>=1.12.0->tf-encrypted!=0.5.7,>=0.5.4->syft) (1.1.0)\n",
            "Requirement already satisfied: gast>=0.2.0 in /usr/local/lib/python3.6/dist-packages (from tensorflow<2,>=1.12.0->tf-encrypted!=0.5.7,>=0.5.4->syft) (0.2.2)\n",
            "Requirement already satisfied: keras-preprocessing>=1.0.5 in /usr/local/lib/python3.6/dist-packages (from tensorflow<2,>=1.12.0->tf-encrypted!=0.5.7,>=0.5.4->syft) (1.1.0)\n",
            "Requirement already satisfied: keras-applications>=1.0.6 in /usr/local/lib/python3.6/dist-packages (from tensorflow<2,>=1.12.0->tf-encrypted!=0.5.7,>=0.5.4->syft) (1.0.8)\n",
            "Requirement already satisfied: astor>=0.6.0 in /usr/local/lib/python3.6/dist-packages (from tensorflow<2,>=1.12.0->tf-encrypted!=0.5.7,>=0.5.4->syft) (0.8.0)\n",
            "Requirement already satisfied: tensorflow-estimator<1.15.0rc0,>=1.14.0rc0 in /usr/local/lib/python3.6/dist-packages (from tensorflow<2,>=1.12.0->tf-encrypted!=0.5.7,>=0.5.4->syft) (1.14.0)\n",
            "Requirement already satisfied: wheel>=0.26 in /usr/local/lib/python3.6/dist-packages (from tensorflow<2,>=1.12.0->tf-encrypted!=0.5.7,>=0.5.4->syft) (0.33.4)\n",
            "Requirement already satisfied: wrapt>=1.11.1 in /usr/local/lib/python3.6/dist-packages (from tensorflow<2,>=1.12.0->tf-encrypted!=0.5.7,>=0.5.4->syft) (1.11.2)\n",
            "Requirement already satisfied: grpcio>=1.8.6 in /usr/local/lib/python3.6/dist-packages (from tensorflow<2,>=1.12.0->tf-encrypted!=0.5.7,>=0.5.4->syft) (1.15.0)\n",
            "Requirement already satisfied: absl-py>=0.7.0 in /usr/local/lib/python3.6/dist-packages (from tensorflow<2,>=1.12.0->tf-encrypted!=0.5.7,>=0.5.4->syft) (0.7.1)\n",
            "Requirement already satisfied: protobuf>=3.6.1 in /usr/local/lib/python3.6/dist-packages (from tensorflow<2,>=1.12.0->tf-encrypted!=0.5.7,>=0.5.4->syft) (3.7.1)\n",
            "Requirement already satisfied: google-pasta>=0.1.6 in /usr/local/lib/python3.6/dist-packages (from tensorflow<2,>=1.12.0->tf-encrypted!=0.5.7,>=0.5.4->syft) (0.1.7)\n",
            "Requirement already satisfied: tensorboard<1.15.0,>=1.14.0 in /usr/local/lib/python3.6/dist-packages (from tensorflow<2,>=1.12.0->tf-encrypted!=0.5.7,>=0.5.4->syft) (1.14.0)\n",
            "Collecting python-engineio>=3.9.0 (from python-socketio>=4.3.0->flask-socketio>=3.3.2->syft)\n",
            "\u001b[?25l  Downloading https://files.pythonhosted.org/packages/2b/20/8e3ba16102ae2e245d70d9cb9fa48b076253fdb036dc43eea142294c2897/python_engineio-3.9.3-py2.py3-none-any.whl (119kB)\n",
            "\u001b[K     |████████████████████████████████| 122kB 46.9MB/s \n",
            "\u001b[?25hRequirement already satisfied: h5py in /usr/local/lib/python3.6/dist-packages (from keras-applications>=1.0.6->tensorflow<2,>=1.12.0->tf-encrypted!=0.5.7,>=0.5.4->syft) (2.8.0)\n",
            "Requirement already satisfied: setuptools in /usr/local/lib/python3.6/dist-packages (from protobuf>=3.6.1->tensorflow<2,>=1.12.0->tf-encrypted!=0.5.7,>=0.5.4->syft) (41.0.1)\n",
            "Requirement already satisfied: markdown>=2.6.8 in /usr/local/lib/python3.6/dist-packages (from tensorboard<1.15.0,>=1.14.0->tensorflow<2,>=1.12.0->tf-encrypted!=0.5.7,>=0.5.4->syft) (3.1.1)\n",
            "Building wheels for collected packages: zstd, pyyaml\n",
            "  Building wheel for zstd (setup.py) ... \u001b[?25l\u001b[?25hdone\n",
            "  Created wheel for zstd: filename=zstd-1.4.1.0-cp36-cp36m-linux_x86_64.whl size=1067093 sha256=929951ec7b1ad21791307ad0aa90baba754cd1073fb726a89fe3c4f88ec487bc\n",
            "  Stored in directory: /root/.cache/pip/wheels/66/3f/ee/ac08c81af7c1b24a80c746df669ea3cb37542d27877d66ccf4\n",
            "  Building wheel for pyyaml (setup.py) ... \u001b[?25l\u001b[?25hdone\n",
            "  Created wheel for pyyaml: filename=PyYAML-5.1.2-cp36-cp36m-linux_x86_64.whl size=44105 sha256=849e59e5a5b8650de8dc6db0eff157dd9017b0083d8e0b20fa1e349af0be4c5f\n",
            "  Stored in directory: /root/.cache/pip/wheels/d9/45/dd/65f0b38450c47cf7e5312883deb97d065e030c5cca0a365030\n",
            "Successfully built zstd pyyaml\n",
            "Installing collected packages: lz4, websockets, pyyaml, tf-encrypted, zstd, python-engineio, python-socketio, flask-socketio, msgpack, websocket-client, syft\n",
            "  Found existing installation: PyYAML 3.13\n",
            "    Uninstalling PyYAML-3.13:\n",
            "      Successfully uninstalled PyYAML-3.13\n",
            "  Found existing installation: msgpack 0.5.6\n",
            "    Uninstalling msgpack-0.5.6:\n",
            "      Successfully uninstalled msgpack-0.5.6\n",
            "Successfully installed flask-socketio-4.2.1 lz4-2.1.10 msgpack-0.6.1 python-engineio-3.9.3 python-socketio-4.3.1 pyyaml-5.1.2 syft-0.1.22a1 tf-encrypted-0.5.6 websocket-client-0.56.0 websockets-8.0.2 zstd-1.4.1.0\n"
          ],
          "name": "stdout"
        }
      ]
    },
    {
      "cell_type": "code",
      "metadata": {
        "id": "4sCCaCVfjr1G",
        "colab_type": "code",
        "outputId": "072888dd-61ab-4463-9237-abb0ca2b3257",
        "colab": {
          "base_uri": "https://localhost:8080/",
          "height": 106
        }
      },
      "source": [
        "import syft as sy"
      ],
      "execution_count": 11,
      "outputs": [
        {
          "output_type": "stream",
          "text": [
            "WARNING: Logging before flag parsing goes to stderr.\n",
            "W0806 13:56:46.161303 140453661996928 secure_random.py:26] Falling back to insecure randomness since the required custom op could not be found for the installed version of TensorFlow. Fix this by compiling custom ops. Missing file was '/usr/local/lib/python3.6/dist-packages/tf_encrypted/operations/secure_random/secure_random_module_tf_1.14.0.so'\n",
            "W0806 13:56:46.180453 140453661996928 deprecation_wrapper.py:119] From /usr/local/lib/python3.6/dist-packages/tf_encrypted/session.py:26: The name tf.Session is deprecated. Please use tf.compat.v1.Session instead.\n",
            "\n"
          ],
          "name": "stderr"
        }
      ]
    },
    {
      "cell_type": "code",
      "metadata": {
        "id": "SUeq8qC2jug8",
        "colab_type": "code",
        "colab": {}
      },
      "source": [
        "hook = sy.TorchHook(th)"
      ],
      "execution_count": 0,
      "outputs": []
    },
    {
      "cell_type": "code",
      "metadata": {
        "id": "zm-pDGJIjw_k",
        "colab_type": "code",
        "outputId": "a430b0aa-ba61-48a0-9f67-ee437c77485b",
        "colab": {
          "base_uri": "https://localhost:8080/",
          "height": 34
        }
      },
      "source": [
        "x = th.tensor([1,2,3,4,5])\n",
        "x"
      ],
      "execution_count": 13,
      "outputs": [
        {
          "output_type": "execute_result",
          "data": {
            "text/plain": [
              "tensor([1, 2, 3, 4, 5])"
            ]
          },
          "metadata": {
            "tags": []
          },
          "execution_count": 13
        }
      ]
    },
    {
      "cell_type": "markdown",
      "metadata": {
        "id": "eUVJhlpbkzWB",
        "colab_type": "text"
      },
      "source": [
        "**Lesson : Basic Remote Execution in PySyft**"
      ]
    },
    {
      "cell_type": "code",
      "metadata": {
        "id": "rF3rmeY_j9zo",
        "colab_type": "code",
        "colab": {}
      },
      "source": [
        "bob = sy.VirtualWorker(hook, id='bob')"
      ],
      "execution_count": 0,
      "outputs": []
    },
    {
      "cell_type": "code",
      "metadata": {
        "id": "rilux1GqlPy4",
        "colab_type": "code",
        "outputId": "61c8abe1-a141-4f3b-a990-f4ee760ccd90",
        "colab": {
          "base_uri": "https://localhost:8080/",
          "height": 34
        }
      },
      "source": [
        "bob._objects"
      ],
      "execution_count": 15,
      "outputs": [
        {
          "output_type": "execute_result",
          "data": {
            "text/plain": [
              "{}"
            ]
          },
          "metadata": {
            "tags": []
          },
          "execution_count": 15
        }
      ]
    },
    {
      "cell_type": "code",
      "metadata": {
        "id": "E8OoMG4ylR1Z",
        "colab_type": "code",
        "colab": {}
      },
      "source": [
        "x = th.tensor([1,2,3,4,5])"
      ],
      "execution_count": 0,
      "outputs": []
    },
    {
      "cell_type": "code",
      "metadata": {
        "id": "-JLS5zorlWAJ",
        "colab_type": "code",
        "colab": {}
      },
      "source": [
        "x = x.send(bob)"
      ],
      "execution_count": 0,
      "outputs": []
    },
    {
      "cell_type": "code",
      "metadata": {
        "id": "8LRA94XElXk7",
        "colab_type": "code",
        "outputId": "3ff124ef-ca14-4e64-8cfc-c389c8ece1d1",
        "colab": {
          "base_uri": "https://localhost:8080/",
          "height": 34
        }
      },
      "source": [
        "bob._objects"
      ],
      "execution_count": 18,
      "outputs": [
        {
          "output_type": "execute_result",
          "data": {
            "text/plain": [
              "{43998774710: tensor([1, 2, 3, 4, 5])}"
            ]
          },
          "metadata": {
            "tags": []
          },
          "execution_count": 18
        }
      ]
    },
    {
      "cell_type": "code",
      "metadata": {
        "id": "IKpSYAkQlaB-",
        "colab_type": "code",
        "outputId": "c7e0513c-7056-415f-99ae-44f66b68fd2a",
        "colab": {
          "base_uri": "https://localhost:8080/",
          "height": 34
        }
      },
      "source": [
        "x.location"
      ],
      "execution_count": 19,
      "outputs": [
        {
          "output_type": "execute_result",
          "data": {
            "text/plain": [
              "<VirtualWorker id:bob #objects:1>"
            ]
          },
          "metadata": {
            "tags": []
          },
          "execution_count": 19
        }
      ]
    },
    {
      "cell_type": "code",
      "metadata": {
        "id": "XeGCxtmzmgBW",
        "colab_type": "code",
        "outputId": "eeba4da9-e277-4ff4-d54b-a438ddd0a81c",
        "colab": {
          "base_uri": "https://localhost:8080/",
          "height": 34
        }
      },
      "source": [
        "x.id_at_location"
      ],
      "execution_count": 20,
      "outputs": [
        {
          "output_type": "execute_result",
          "data": {
            "text/plain": [
              "43998774710"
            ]
          },
          "metadata": {
            "tags": []
          },
          "execution_count": 20
        }
      ]
    },
    {
      "cell_type": "code",
      "metadata": {
        "id": "ehNwEc9Lmj_7",
        "colab_type": "code",
        "outputId": "c7f88924-fc71-49bd-bb0e-70641b99176e",
        "colab": {
          "base_uri": "https://localhost:8080/",
          "height": 34
        }
      },
      "source": [
        "x.id"
      ],
      "execution_count": 21,
      "outputs": [
        {
          "output_type": "execute_result",
          "data": {
            "text/plain": [
              "96665505889"
            ]
          },
          "metadata": {
            "tags": []
          },
          "execution_count": 21
        }
      ]
    },
    {
      "cell_type": "code",
      "metadata": {
        "id": "sqfhKmwjml7n",
        "colab_type": "code",
        "outputId": "8e60e772-2d2c-4f3f-db65-021fce2835a4",
        "colab": {
          "base_uri": "https://localhost:8080/",
          "height": 34
        }
      },
      "source": [
        "x.owner"
      ],
      "execution_count": 22,
      "outputs": [
        {
          "output_type": "execute_result",
          "data": {
            "text/plain": [
              "<VirtualWorker id:me #objects:0>"
            ]
          },
          "metadata": {
            "tags": []
          },
          "execution_count": 22
        }
      ]
    },
    {
      "cell_type": "code",
      "metadata": {
        "id": "7b_1Sj1empbz",
        "colab_type": "code",
        "outputId": "02c37c98-9933-4aeb-ef37-313eaf631243",
        "colab": {
          "base_uri": "https://localhost:8080/",
          "height": 34
        }
      },
      "source": [
        "hook.local_worker"
      ],
      "execution_count": 23,
      "outputs": [
        {
          "output_type": "execute_result",
          "data": {
            "text/plain": [
              "<VirtualWorker id:me #objects:0>"
            ]
          },
          "metadata": {
            "tags": []
          },
          "execution_count": 23
        }
      ]
    },
    {
      "cell_type": "code",
      "metadata": {
        "id": "aupLTxgtmtfP",
        "colab_type": "code",
        "outputId": "06d38bc0-37a9-49b4-b1ef-ffbbce7c1552",
        "colab": {
          "base_uri": "https://localhost:8080/",
          "height": 34
        }
      },
      "source": [
        "x = x.get()\n",
        "x"
      ],
      "execution_count": 24,
      "outputs": [
        {
          "output_type": "execute_result",
          "data": {
            "text/plain": [
              "tensor([1, 2, 3, 4, 5])"
            ]
          },
          "metadata": {
            "tags": []
          },
          "execution_count": 24
        }
      ]
    },
    {
      "cell_type": "code",
      "metadata": {
        "id": "gni8M23Um3xi",
        "colab_type": "code",
        "outputId": "ebe8c549-91df-4f3b-8ab6-51b685ddaf6e",
        "colab": {
          "base_uri": "https://localhost:8080/",
          "height": 34
        }
      },
      "source": [
        "bob._objects"
      ],
      "execution_count": 25,
      "outputs": [
        {
          "output_type": "execute_result",
          "data": {
            "text/plain": [
              "{}"
            ]
          },
          "metadata": {
            "tags": []
          },
          "execution_count": 25
        }
      ]
    },
    {
      "cell_type": "markdown",
      "metadata": {
        "id": "a5Pv16cCccpV",
        "colab_type": "text"
      },
      "source": [
        "**Project: Playing with Remote Tensors**"
      ]
    },
    {
      "cell_type": "code",
      "metadata": {
        "id": "JALz8od4m6yn",
        "colab_type": "code",
        "colab": {}
      },
      "source": [
        "alice = sy.VirtualWorker(hook, id=\"alice\")"
      ],
      "execution_count": 0,
      "outputs": []
    },
    {
      "cell_type": "code",
      "metadata": {
        "id": "uPi1jUnmgfzj",
        "colab_type": "code",
        "colab": {}
      },
      "source": [
        "x = th.tensor([1,2,3,4,5])"
      ],
      "execution_count": 0,
      "outputs": []
    },
    {
      "cell_type": "code",
      "metadata": {
        "id": "hbbfQPgPg9PC",
        "colab_type": "code",
        "colab": {}
      },
      "source": [
        "x_ptr = x.send(bob, alice)"
      ],
      "execution_count": 0,
      "outputs": []
    },
    {
      "cell_type": "code",
      "metadata": {
        "id": "X5HMKsuyhAQl",
        "colab_type": "code",
        "outputId": "e125245a-5692-4d71-b705-08c634573cee",
        "colab": {
          "base_uri": "https://localhost:8080/",
          "height": 52
        }
      },
      "source": [
        "x_ptr.child.child"
      ],
      "execution_count": 29,
      "outputs": [
        {
          "output_type": "execute_result",
          "data": {
            "text/plain": [
              "{'alice': [PointerTensor | me:15865047686 -> alice:78660278088],\n",
              " 'bob': [PointerTensor | me:7340719419 -> bob:2565304846]}"
            ]
          },
          "metadata": {
            "tags": []
          },
          "execution_count": 29
        }
      ]
    },
    {
      "cell_type": "code",
      "metadata": {
        "id": "WFeN4xZvhMFD",
        "colab_type": "code",
        "outputId": "8c7e281f-30bc-457b-c35b-b7554047a546",
        "colab": {
          "base_uri": "https://localhost:8080/",
          "height": 34
        }
      },
      "source": [
        "x_ptr.get()"
      ],
      "execution_count": 30,
      "outputs": [
        {
          "output_type": "execute_result",
          "data": {
            "text/plain": [
              "[tensor([1, 2, 3, 4, 5]), tensor([1, 2, 3, 4, 5])]"
            ]
          },
          "metadata": {
            "tags": []
          },
          "execution_count": 30
        }
      ]
    },
    {
      "cell_type": "code",
      "metadata": {
        "id": "DgeVWGt2hSxk",
        "colab_type": "code",
        "colab": {}
      },
      "source": [
        "x = th.tensor([1,2,3,4,5]).send(bob, alice)"
      ],
      "execution_count": 0,
      "outputs": []
    },
    {
      "cell_type": "code",
      "metadata": {
        "id": "n-yzXYMHhhta",
        "colab_type": "code",
        "outputId": "790fdf57-e478-4a05-d7a8-8b8ac92bd47e",
        "colab": {
          "base_uri": "https://localhost:8080/",
          "height": 34
        }
      },
      "source": [
        "x.get(sum_results=True)"
      ],
      "execution_count": 32,
      "outputs": [
        {
          "output_type": "execute_result",
          "data": {
            "text/plain": [
              "tensor([ 2,  4,  6,  8, 10])"
            ]
          },
          "metadata": {
            "tags": []
          },
          "execution_count": 32
        }
      ]
    },
    {
      "cell_type": "markdown",
      "metadata": {
        "id": "HWlMa18ubKGR",
        "colab_type": "text"
      },
      "source": [
        "**Lesson: Introducing Remote Arithmetic**"
      ]
    },
    {
      "cell_type": "code",
      "metadata": {
        "id": "y9wCejWghkj9",
        "colab_type": "code",
        "colab": {}
      },
      "source": [
        "x = th.tensor([1,2,3,4,5]).send(bob)\n",
        "y = th.tensor([1,1,1,1,1]).send(bob)"
      ],
      "execution_count": 0,
      "outputs": []
    },
    {
      "cell_type": "code",
      "metadata": {
        "id": "D46SY1zTbYlc",
        "colab_type": "code",
        "outputId": "e899cc0b-675d-4a96-a46d-a1ebe42d466d",
        "colab": {
          "base_uri": "https://localhost:8080/",
          "height": 34
        }
      },
      "source": [
        "x"
      ],
      "execution_count": 34,
      "outputs": [
        {
          "output_type": "execute_result",
          "data": {
            "text/plain": [
              "(Wrapper)>[PointerTensor | me:58084396986 -> bob:95779312738]"
            ]
          },
          "metadata": {
            "tags": []
          },
          "execution_count": 34
        }
      ]
    },
    {
      "cell_type": "code",
      "metadata": {
        "id": "hI14wrJobZb5",
        "colab_type": "code",
        "outputId": "fa235b05-c16a-4f5b-840c-339a5dfeb587",
        "colab": {
          "base_uri": "https://localhost:8080/",
          "height": 34
        }
      },
      "source": [
        "y"
      ],
      "execution_count": 35,
      "outputs": [
        {
          "output_type": "execute_result",
          "data": {
            "text/plain": [
              "(Wrapper)>[PointerTensor | me:29930823926 -> bob:21384714613]"
            ]
          },
          "metadata": {
            "tags": []
          },
          "execution_count": 35
        }
      ]
    },
    {
      "cell_type": "code",
      "metadata": {
        "id": "1S0K9aTkba1-",
        "colab_type": "code",
        "colab": {}
      },
      "source": [
        "z = x + y"
      ],
      "execution_count": 0,
      "outputs": []
    },
    {
      "cell_type": "code",
      "metadata": {
        "id": "htS6gwRXbdXd",
        "colab_type": "code",
        "outputId": "c76c6659-7450-4f6e-8d2f-f2b0a4e55cff",
        "colab": {
          "base_uri": "https://localhost:8080/",
          "height": 34
        }
      },
      "source": [
        "z"
      ],
      "execution_count": 37,
      "outputs": [
        {
          "output_type": "execute_result",
          "data": {
            "text/plain": [
              "(Wrapper)>[PointerTensor | me:14130850944 -> bob:79574593385]"
            ]
          },
          "metadata": {
            "tags": []
          },
          "execution_count": 37
        }
      ]
    },
    {
      "cell_type": "code",
      "metadata": {
        "id": "6bNyf8-jbexz",
        "colab_type": "code",
        "outputId": "387d5337-7630-46cf-89f9-699f5c3eaa02",
        "colab": {
          "base_uri": "https://localhost:8080/",
          "height": 34
        }
      },
      "source": [
        "z = z.get()\n",
        "z"
      ],
      "execution_count": 38,
      "outputs": [
        {
          "output_type": "execute_result",
          "data": {
            "text/plain": [
              "tensor([2, 3, 4, 5, 6])"
            ]
          },
          "metadata": {
            "tags": []
          },
          "execution_count": 38
        }
      ]
    },
    {
      "cell_type": "code",
      "metadata": {
        "id": "cYY1kIrdbpP2",
        "colab_type": "code",
        "outputId": "c3d2468f-b1e8-4518-9a28-b7dafe0b4384",
        "colab": {
          "base_uri": "https://localhost:8080/",
          "height": 34
        }
      },
      "source": [
        "z = th.add(x,y)\n",
        "z"
      ],
      "execution_count": 39,
      "outputs": [
        {
          "output_type": "execute_result",
          "data": {
            "text/plain": [
              "(Wrapper)>[PointerTensor | me:28111432779 -> bob:84313606654]"
            ]
          },
          "metadata": {
            "tags": []
          },
          "execution_count": 39
        }
      ]
    },
    {
      "cell_type": "code",
      "metadata": {
        "id": "vbC5gxjbbtjI",
        "colab_type": "code",
        "outputId": "7d40cc35-5512-4518-b264-ac0747041e95",
        "colab": {
          "base_uri": "https://localhost:8080/",
          "height": 34
        }
      },
      "source": [
        "z = z.get()\n",
        "z"
      ],
      "execution_count": 40,
      "outputs": [
        {
          "output_type": "execute_result",
          "data": {
            "text/plain": [
              "tensor([2, 3, 4, 5, 6])"
            ]
          },
          "metadata": {
            "tags": []
          },
          "execution_count": 40
        }
      ]
    },
    {
      "cell_type": "code",
      "metadata": {
        "id": "7OfVDNB2byld",
        "colab_type": "code",
        "colab": {}
      },
      "source": [
        "x = th.tensor([1.,2,3,4,5], requires_grad=True).send(bob)\n",
        "y = th.tensor([1.,1,1,1,1], requires_grad=True).send(bob)"
      ],
      "execution_count": 0,
      "outputs": []
    },
    {
      "cell_type": "code",
      "metadata": {
        "id": "JrUgp4eOcOsc",
        "colab_type": "code",
        "colab": {}
      },
      "source": [
        "z = (x+y).sum()"
      ],
      "execution_count": 0,
      "outputs": []
    },
    {
      "cell_type": "code",
      "metadata": {
        "id": "Qv3Qw9ZpcZAU",
        "colab_type": "code",
        "outputId": "9290b476-0620-48c4-ba35-f5eb7c14ac46",
        "colab": {
          "base_uri": "https://localhost:8080/",
          "height": 34
        }
      },
      "source": [
        "z.backward()"
      ],
      "execution_count": 43,
      "outputs": [
        {
          "output_type": "execute_result",
          "data": {
            "text/plain": [
              "(Wrapper)>[PointerTensor | me:37165357306 -> bob:34896268191]"
            ]
          },
          "metadata": {
            "tags": []
          },
          "execution_count": 43
        }
      ]
    },
    {
      "cell_type": "code",
      "metadata": {
        "id": "qp19rOwOcbFV",
        "colab_type": "code",
        "colab": {}
      },
      "source": [
        "x = x.get()"
      ],
      "execution_count": 0,
      "outputs": []
    },
    {
      "cell_type": "code",
      "metadata": {
        "id": "G3jX3TJ6ccg0",
        "colab_type": "code",
        "outputId": "133d48e7-fd6f-4af7-a176-20d8f5ec9670",
        "colab": {
          "base_uri": "https://localhost:8080/",
          "height": 34
        }
      },
      "source": [
        "x"
      ],
      "execution_count": 45,
      "outputs": [
        {
          "output_type": "execute_result",
          "data": {
            "text/plain": [
              "tensor([1., 2., 3., 4., 5.], requires_grad=True)"
            ]
          },
          "metadata": {
            "tags": []
          },
          "execution_count": 45
        }
      ]
    },
    {
      "cell_type": "code",
      "metadata": {
        "id": "Q5Q-CdhXcc-M",
        "colab_type": "code",
        "outputId": "83992880-bbe0-4cdb-eb13-e7804537b853",
        "colab": {
          "base_uri": "https://localhost:8080/",
          "height": 34
        }
      },
      "source": [
        "x.grad"
      ],
      "execution_count": 46,
      "outputs": [
        {
          "output_type": "execute_result",
          "data": {
            "text/plain": [
              "tensor([1., 1., 1., 1., 1.])"
            ]
          },
          "metadata": {
            "tags": []
          },
          "execution_count": 46
        }
      ]
    },
    {
      "cell_type": "markdown",
      "metadata": {
        "id": "b7jFATNXdNvQ",
        "colab_type": "text"
      },
      "source": [
        "**Project: Learn a Simple Linear Model**"
      ]
    },
    {
      "cell_type": "code",
      "metadata": {
        "id": "W36KAjXrciCD",
        "colab_type": "code",
        "colab": {}
      },
      "source": [
        "# make a toy dataset\n",
        "input = th.tensor([[1.,1], [0,1], [1,0], [0,0]], requires_grad=True).send(bob)\n",
        "target = th.tensor([[1.], [1], [0], [0]], requires_grad=True).send(bob)"
      ],
      "execution_count": 0,
      "outputs": []
    },
    {
      "cell_type": "code",
      "metadata": {
        "id": "l321yDiZeaNh",
        "colab_type": "code",
        "colab": {}
      },
      "source": [
        "weights = th.tensor([[0.], [0.]], requires_grad=True).send(bob)"
      ],
      "execution_count": 0,
      "outputs": []
    },
    {
      "cell_type": "code",
      "metadata": {
        "id": "vYbDo52eeqiU",
        "colab_type": "code",
        "outputId": "c289108a-9df2-436e-99e0-fc389a416ba3",
        "colab": {
          "base_uri": "https://localhost:8080/",
          "height": 191
        }
      },
      "source": [
        "for i in range(10):\n",
        "  \n",
        "  pred = input.mm(weights)\n",
        "\n",
        "  loss = ((pred - target)**2).sum()\n",
        "\n",
        "  loss.backward()\n",
        "\n",
        "  weights.data.sub_(weights.grad * 0.1)\n",
        "  weights.grad *= 0\n",
        "\n",
        "  print(loss.get().data)"
      ],
      "execution_count": 49,
      "outputs": [
        {
          "output_type": "stream",
          "text": [
            "tensor(2.)\n",
            "tensor(0.5600)\n",
            "tensor(0.2432)\n",
            "tensor(0.1372)\n",
            "tensor(0.0849)\n",
            "tensor(0.0538)\n",
            "tensor(0.0344)\n",
            "tensor(0.0220)\n",
            "tensor(0.0141)\n",
            "tensor(0.0090)\n"
          ],
          "name": "stdout"
        }
      ]
    },
    {
      "cell_type": "markdown",
      "metadata": {
        "id": "9ev4Ox9kgW0D",
        "colab_type": "text"
      },
      "source": [
        "**Lesson: Garbage Collection and Common Errors**"
      ]
    },
    {
      "cell_type": "code",
      "metadata": {
        "id": "te7OVWjfezJQ",
        "colab_type": "code",
        "colab": {}
      },
      "source": [
        "bob = bob.clear_objects()"
      ],
      "execution_count": 0,
      "outputs": []
    },
    {
      "cell_type": "code",
      "metadata": {
        "id": "_sMlnTeAe39-",
        "colab_type": "code",
        "outputId": "ffe8509c-dae3-456e-cf96-44f0073770fb",
        "colab": {
          "base_uri": "https://localhost:8080/",
          "height": 34
        }
      },
      "source": [
        "bob._objects"
      ],
      "execution_count": 51,
      "outputs": [
        {
          "output_type": "execute_result",
          "data": {
            "text/plain": [
              "{}"
            ]
          },
          "metadata": {
            "tags": []
          },
          "execution_count": 51
        }
      ]
    },
    {
      "cell_type": "code",
      "metadata": {
        "id": "kpo_Q2-Ne5zx",
        "colab_type": "code",
        "colab": {}
      },
      "source": [
        "x = th.tensor([1,2,3,4,5]).send(bob)"
      ],
      "execution_count": 0,
      "outputs": []
    },
    {
      "cell_type": "code",
      "metadata": {
        "id": "fW8waIRffYGt",
        "colab_type": "code",
        "outputId": "48961615-7ead-4138-9efa-d2a963267106",
        "colab": {
          "base_uri": "https://localhost:8080/",
          "height": 34
        }
      },
      "source": [
        "bob._objects"
      ],
      "execution_count": 53,
      "outputs": [
        {
          "output_type": "execute_result",
          "data": {
            "text/plain": [
              "{62382151461: tensor([1, 2, 3, 4, 5])}"
            ]
          },
          "metadata": {
            "tags": []
          },
          "execution_count": 53
        }
      ]
    },
    {
      "cell_type": "code",
      "metadata": {
        "id": "jMUHQOLIgA96",
        "colab_type": "code",
        "colab": {}
      },
      "source": [
        "del x"
      ],
      "execution_count": 0,
      "outputs": []
    },
    {
      "cell_type": "code",
      "metadata": {
        "id": "GtK_4ftDgHBY",
        "colab_type": "code",
        "outputId": "e8e34ee2-557d-4662-bb4a-4259e1338bec",
        "colab": {
          "base_uri": "https://localhost:8080/",
          "height": 34
        }
      },
      "source": [
        "bob._objects"
      ],
      "execution_count": 55,
      "outputs": [
        {
          "output_type": "execute_result",
          "data": {
            "text/plain": [
              "{}"
            ]
          },
          "metadata": {
            "tags": []
          },
          "execution_count": 55
        }
      ]
    },
    {
      "cell_type": "code",
      "metadata": {
        "id": "2Guizt3FgJbR",
        "colab_type": "code",
        "colab": {}
      },
      "source": [
        "x = th.tensor([1,2,3,4,5]).send(bob)"
      ],
      "execution_count": 0,
      "outputs": []
    },
    {
      "cell_type": "code",
      "metadata": {
        "id": "enugcuVigwxu",
        "colab_type": "code",
        "outputId": "501d335a-2de6-486a-acad-e6a9917e8d04",
        "colab": {
          "base_uri": "https://localhost:8080/",
          "height": 34
        }
      },
      "source": [
        "x"
      ],
      "execution_count": 57,
      "outputs": [
        {
          "output_type": "execute_result",
          "data": {
            "text/plain": [
              "(Wrapper)>[PointerTensor | me:86816378614 -> bob:13951627005]"
            ]
          },
          "metadata": {
            "tags": []
          },
          "execution_count": 57
        }
      ]
    },
    {
      "cell_type": "code",
      "metadata": {
        "id": "LJdeO3mogxLJ",
        "colab_type": "code",
        "outputId": "af53c845-0ffb-4eea-dd9e-812ea35b24f3",
        "colab": {
          "base_uri": "https://localhost:8080/",
          "height": 34
        }
      },
      "source": [
        "bob._objects"
      ],
      "execution_count": 58,
      "outputs": [
        {
          "output_type": "execute_result",
          "data": {
            "text/plain": [
              "{13951627005: tensor([1, 2, 3, 4, 5])}"
            ]
          },
          "metadata": {
            "tags": []
          },
          "execution_count": 58
        }
      ]
    },
    {
      "cell_type": "code",
      "metadata": {
        "id": "pRbgSLGog0El",
        "colab_type": "code",
        "colab": {}
      },
      "source": [
        "x = \"asdf\""
      ],
      "execution_count": 0,
      "outputs": []
    },
    {
      "cell_type": "code",
      "metadata": {
        "id": "zhReZSOzg2lO",
        "colab_type": "code",
        "outputId": "7fe3cc27-d501-43cd-e51e-0d099769c099",
        "colab": {
          "base_uri": "https://localhost:8080/",
          "height": 34
        }
      },
      "source": [
        "bob._objects"
      ],
      "execution_count": 60,
      "outputs": [
        {
          "output_type": "execute_result",
          "data": {
            "text/plain": [
              "{13951627005: tensor([1, 2, 3, 4, 5])}"
            ]
          },
          "metadata": {
            "tags": []
          },
          "execution_count": 60
        }
      ]
    },
    {
      "cell_type": "code",
      "metadata": {
        "id": "8Iv2bYZIg4a5",
        "colab_type": "code",
        "colab": {}
      },
      "source": [
        "del x"
      ],
      "execution_count": 0,
      "outputs": []
    },
    {
      "cell_type": "code",
      "metadata": {
        "id": "6YIXqG2xg5yt",
        "colab_type": "code",
        "outputId": "efbb7b4b-b57d-45aa-b3f8-2e1fdbadfef7",
        "colab": {
          "base_uri": "https://localhost:8080/",
          "height": 34
        }
      },
      "source": [
        "bob._objects"
      ],
      "execution_count": 62,
      "outputs": [
        {
          "output_type": "execute_result",
          "data": {
            "text/plain": [
              "{13951627005: tensor([1, 2, 3, 4, 5])}"
            ]
          },
          "metadata": {
            "tags": []
          },
          "execution_count": 62
        }
      ]
    },
    {
      "cell_type": "code",
      "metadata": {
        "id": "bewLsZc6g7Zw",
        "colab_type": "code",
        "outputId": "2236faf9-4457-47c5-90f8-0828157d0241",
        "colab": {
          "base_uri": "https://localhost:8080/",
          "height": 34
        }
      },
      "source": [
        "bob.clear_objects()"
      ],
      "execution_count": 63,
      "outputs": [
        {
          "output_type": "execute_result",
          "data": {
            "text/plain": [
              "<VirtualWorker id:bob #objects:0>"
            ]
          },
          "metadata": {
            "tags": []
          },
          "execution_count": 63
        }
      ]
    },
    {
      "cell_type": "code",
      "metadata": {
        "id": "nAiieU0dh0SW",
        "colab_type": "code",
        "colab": {}
      },
      "source": [
        "x = th.tensor([1,2,3,4,5]).send(bob)\n",
        "y = th.tensor([1,2,3,4,5])"
      ],
      "execution_count": 0,
      "outputs": []
    },
    {
      "cell_type": "code",
      "metadata": {
        "id": "zXKXeheHijO9",
        "colab_type": "code",
        "colab": {}
      },
      "source": [
        "z = x + y"
      ],
      "execution_count": 0,
      "outputs": []
    },
    {
      "cell_type": "code",
      "metadata": {
        "id": "yPWjBgkkikjO",
        "colab_type": "code",
        "colab": {}
      },
      "source": [
        "x = th.tensor([1,2,3,4,5]).send(bob)\n",
        "y = th.tensor([1,2,3,4,5]).send(alice)"
      ],
      "execution_count": 0,
      "outputs": []
    },
    {
      "cell_type": "code",
      "metadata": {
        "id": "pdh19sYrirAG",
        "colab_type": "code",
        "outputId": "f5599680-942e-4dd0-d875-74104a721a9e",
        "colab": {
          "base_uri": "https://localhost:8080/",
          "height": 332
        }
      },
      "source": [
        "z = x + y"
      ],
      "execution_count": 67,
      "outputs": [
        {
          "output_type": "error",
          "ename": "TensorsNotCollocatedException",
          "evalue": "ignored",
          "traceback": [
            "\u001b[0;31m---------------------------------------------------------------------------\u001b[0m",
            "\u001b[0;31mTensorsNotCollocatedException\u001b[0m             Traceback (most recent call last)",
            "\u001b[0;32m<ipython-input-67-8c8f78e0676d>\u001b[0m in \u001b[0;36m<module>\u001b[0;34m()\u001b[0m\n\u001b[0;32m----> 1\u001b[0;31m \u001b[0mz\u001b[0m \u001b[0;34m=\u001b[0m \u001b[0mx\u001b[0m \u001b[0;34m+\u001b[0m \u001b[0my\u001b[0m\u001b[0;34m\u001b[0m\u001b[0;34m\u001b[0m\u001b[0m\n\u001b[0m",
            "\u001b[0;32m/usr/local/lib/python3.6/dist-packages/syft/frameworks/torch/hook/hook.py\u001b[0m in \u001b[0;36moverloaded_native_method\u001b[0;34m(self, *args, **kwargs)\u001b[0m\n\u001b[1;32m    675\u001b[0m                 \u001b[0;31m# Send the new command to the appropriate class and get the response\u001b[0m\u001b[0;34m\u001b[0m\u001b[0;34m\u001b[0m\u001b[0;34m\u001b[0m\u001b[0m\n\u001b[1;32m    676\u001b[0m                 \u001b[0mmethod\u001b[0m \u001b[0;34m=\u001b[0m \u001b[0mgetattr\u001b[0m\u001b[0;34m(\u001b[0m\u001b[0mnew_self\u001b[0m\u001b[0;34m,\u001b[0m \u001b[0mmethod_name\u001b[0m\u001b[0;34m)\u001b[0m\u001b[0;34m\u001b[0m\u001b[0;34m\u001b[0m\u001b[0m\n\u001b[0;32m--> 677\u001b[0;31m                 \u001b[0mresponse\u001b[0m \u001b[0;34m=\u001b[0m \u001b[0mmethod\u001b[0m\u001b[0;34m(\u001b[0m\u001b[0;34m*\u001b[0m\u001b[0mnew_args\u001b[0m\u001b[0;34m,\u001b[0m \u001b[0;34m**\u001b[0m\u001b[0mnew_kwargs\u001b[0m\u001b[0;34m)\u001b[0m\u001b[0;34m\u001b[0m\u001b[0;34m\u001b[0m\u001b[0m\n\u001b[0m\u001b[1;32m    678\u001b[0m \u001b[0;34m\u001b[0m\u001b[0m\n\u001b[1;32m    679\u001b[0m                 \u001b[0;31m# For inplace methods, just directly return self\u001b[0m\u001b[0;34m\u001b[0m\u001b[0;34m\u001b[0m\u001b[0;34m\u001b[0m\u001b[0m\n",
            "\u001b[0;32m/usr/local/lib/python3.6/dist-packages/syft/frameworks/torch/hook/hook.py\u001b[0m in \u001b[0;36moverloaded_pointer_method\u001b[0;34m(self, *args, **kwargs)\u001b[0m\n\u001b[1;32m    506\u001b[0m                 \u001b[0;32mif\u001b[0m \u001b[0misinstance\u001b[0m\u001b[0;34m(\u001b[0m\u001b[0margs\u001b[0m\u001b[0;34m[\u001b[0m\u001b[0;36m0\u001b[0m\u001b[0;34m]\u001b[0m\u001b[0;34m,\u001b[0m \u001b[0mPointerTensor\u001b[0m\u001b[0;34m)\u001b[0m\u001b[0;34m:\u001b[0m\u001b[0;34m\u001b[0m\u001b[0;34m\u001b[0m\u001b[0m\n\u001b[1;32m    507\u001b[0m                     \u001b[0;32mif\u001b[0m \u001b[0margs\u001b[0m\u001b[0;34m[\u001b[0m\u001b[0;36m0\u001b[0m\u001b[0;34m]\u001b[0m\u001b[0;34m.\u001b[0m\u001b[0mlocation\u001b[0m\u001b[0;34m.\u001b[0m\u001b[0mid\u001b[0m \u001b[0;34m!=\u001b[0m \u001b[0mlocation\u001b[0m\u001b[0;34m.\u001b[0m\u001b[0mid\u001b[0m\u001b[0;34m:\u001b[0m\u001b[0;34m\u001b[0m\u001b[0;34m\u001b[0m\u001b[0m\n\u001b[0;32m--> 508\u001b[0;31m                         \u001b[0;32mraise\u001b[0m \u001b[0mTensorsNotCollocatedException\u001b[0m\u001b[0;34m(\u001b[0m\u001b[0mpointer\u001b[0m\u001b[0;34m,\u001b[0m \u001b[0margs\u001b[0m\u001b[0;34m[\u001b[0m\u001b[0;36m0\u001b[0m\u001b[0;34m]\u001b[0m\u001b[0;34m,\u001b[0m \u001b[0mattr\u001b[0m\u001b[0;34m)\u001b[0m\u001b[0;34m\u001b[0m\u001b[0;34m\u001b[0m\u001b[0m\n\u001b[0m\u001b[1;32m    509\u001b[0m \u001b[0;34m\u001b[0m\u001b[0m\n\u001b[1;32m    510\u001b[0m             \u001b[0;31m# Send the command\u001b[0m\u001b[0;34m\u001b[0m\u001b[0;34m\u001b[0m\u001b[0;34m\u001b[0m\u001b[0m\n",
            "\u001b[0;31mTensorsNotCollocatedException\u001b[0m: You tried to call __add__ involving two tensors which are not on the same machine! One tensor is on <VirtualWorker id:bob #objects:2> while the other is on <VirtualWorker id:alice #objects:1>. Use a combination of .move(), .get(), and/or .send() to co-locate them to the same machine."
          ]
        }
      ]
    },
    {
      "cell_type": "markdown",
      "metadata": {
        "id": "7wJNV045iyvP",
        "colab_type": "text"
      },
      "source": [
        "**Lesson: Toy Federated Learning**"
      ]
    },
    {
      "cell_type": "code",
      "metadata": {
        "id": "mDC4hAJpjox1",
        "colab_type": "code",
        "colab": {}
      },
      "source": [
        "from torch import nn, optim"
      ],
      "execution_count": 0,
      "outputs": []
    },
    {
      "cell_type": "code",
      "metadata": {
        "id": "HVAZCYD7isRg",
        "colab_type": "code",
        "colab": {}
      },
      "source": [
        "# A toy dataset\n",
        "data = th.tensor([[1.,1], [0,1], [1,0], [0,0]], requires_grad=True)\n",
        "target = th.tensor([[1.], [1], [0], [0]], requires_grad=True)"
      ],
      "execution_count": 0,
      "outputs": []
    },
    {
      "cell_type": "code",
      "metadata": {
        "id": "n_txidIejiXE",
        "colab_type": "code",
        "colab": {}
      },
      "source": [
        "# A Toy model\n",
        "model = nn.Linear(2,1)"
      ],
      "execution_count": 0,
      "outputs": []
    },
    {
      "cell_type": "code",
      "metadata": {
        "id": "QBw0OV7_jwXM",
        "colab_type": "code",
        "colab": {}
      },
      "source": [
        "opt = optim.SGD(params=model.parameters(), lr=0.1)"
      ],
      "execution_count": 0,
      "outputs": []
    },
    {
      "cell_type": "code",
      "metadata": {
        "id": "SWTv5WzFj7ia",
        "colab_type": "code",
        "colab": {}
      },
      "source": [
        "def train(iterations=20):\n",
        "  for iter in range(20):\n",
        "    opt.zero_grad()\n",
        "    pred = model(data)\n",
        "    loss = ((pred - target)**2).sum()\n",
        "    loss.backward()\n",
        "    opt.step()\n",
        "    print(loss.data)"
      ],
      "execution_count": 0,
      "outputs": []
    },
    {
      "cell_type": "code",
      "metadata": {
        "id": "XxoEJnNbkAhw",
        "colab_type": "code",
        "colab": {}
      },
      "source": [
        "data_bob = data[0:2].send(bob)\n",
        "target_bob = target[0:2].send(bob)"
      ],
      "execution_count": 0,
      "outputs": []
    },
    {
      "cell_type": "code",
      "metadata": {
        "id": "wwfgVlGlkDVW",
        "colab_type": "code",
        "colab": {}
      },
      "source": [
        "data_alice = data[0:2].send(alice)\n",
        "target_alice = target[0:2].send(alice)"
      ],
      "execution_count": 0,
      "outputs": []
    },
    {
      "cell_type": "code",
      "metadata": {
        "id": "tWUUBeqlkIv1",
        "colab_type": "code",
        "colab": {}
      },
      "source": [
        "datasets = [(data_bob, target_bob), (data_alice, target_alice)]"
      ],
      "execution_count": 0,
      "outputs": []
    },
    {
      "cell_type": "code",
      "metadata": {
        "id": "83VZEUfNkKn7",
        "colab_type": "code",
        "colab": {}
      },
      "source": [
        "def train(iterations=20):\n",
        "  model = nn.Linear(2,1)\n",
        "  opt = optim.SGD(params=model.parameters(), lr=0.1)\n",
        "  \n",
        "  for iter in range(iterations):\n",
        "    \n",
        "    for _data, _target in datasets:\n",
        "      \n",
        "      #send model to the data\n",
        "      model = model.send(_data.location)\n",
        "      \n",
        "      # do normal training\n",
        "      opt.zero_grad()\n",
        "      pred = model(_data)\n",
        "      loss = ((pred - _target)**2).sum()\n",
        "      loss.backward()\n",
        "      opt.step()\n",
        "      \n",
        "      # get smarter model back\n",
        "      model = model.get()\n",
        "      \n",
        "      print(loss.get())"
      ],
      "execution_count": 0,
      "outputs": []
    },
    {
      "cell_type": "code",
      "metadata": {
        "id": "FoYWkY0DkLsW",
        "colab_type": "code",
        "outputId": "bb77de54-c997-4b22-8d80-e549518c2091",
        "colab": {
          "base_uri": "https://localhost:8080/",
          "height": 712
        }
      },
      "source": [
        "train()"
      ],
      "execution_count": 77,
      "outputs": [
        {
          "output_type": "stream",
          "text": [
            "tensor(1.0269, requires_grad=True)\n",
            "tensor(0.0717, requires_grad=True)\n",
            "tensor(0.0537, requires_grad=True)\n",
            "tensor(0.0446, requires_grad=True)\n",
            "tensor(0.0371, requires_grad=True)\n",
            "tensor(0.0309, requires_grad=True)\n",
            "tensor(0.0257, requires_grad=True)\n",
            "tensor(0.0214, requires_grad=True)\n",
            "tensor(0.0178, requires_grad=True)\n",
            "tensor(0.0148, requires_grad=True)\n",
            "tensor(0.0123, requires_grad=True)\n",
            "tensor(0.0103, requires_grad=True)\n",
            "tensor(0.0086, requires_grad=True)\n",
            "tensor(0.0071, requires_grad=True)\n",
            "tensor(0.0059, requires_grad=True)\n",
            "tensor(0.0049, requires_grad=True)\n",
            "tensor(0.0041, requires_grad=True)\n",
            "tensor(0.0034, requires_grad=True)\n",
            "tensor(0.0028, requires_grad=True)\n",
            "tensor(0.0024, requires_grad=True)\n",
            "tensor(0.0020, requires_grad=True)\n",
            "tensor(0.0016, requires_grad=True)\n",
            "tensor(0.0014, requires_grad=True)\n",
            "tensor(0.0011, requires_grad=True)\n",
            "tensor(0.0009, requires_grad=True)\n",
            "tensor(0.0008, requires_grad=True)\n",
            "tensor(0.0007, requires_grad=True)\n",
            "tensor(0.0005, requires_grad=True)\n",
            "tensor(0.0005, requires_grad=True)\n",
            "tensor(0.0004, requires_grad=True)\n",
            "tensor(0.0003, requires_grad=True)\n",
            "tensor(0.0003, requires_grad=True)\n",
            "tensor(0.0002, requires_grad=True)\n",
            "tensor(0.0002, requires_grad=True)\n",
            "tensor(0.0002, requires_grad=True)\n",
            "tensor(0.0001, requires_grad=True)\n",
            "tensor(0.0001, requires_grad=True)\n",
            "tensor(8.6936e-05, requires_grad=True)\n",
            "tensor(7.2359e-05, requires_grad=True)\n",
            "tensor(6.0225e-05, requires_grad=True)\n"
          ],
          "name": "stdout"
        }
      ]
    },
    {
      "cell_type": "markdown",
      "metadata": {
        "id": "uWQG76fVOOQo",
        "colab_type": "text"
      },
      "source": [
        "**Lesson :** Advanced Remote Execution Tools"
      ]
    },
    {
      "cell_type": "code",
      "metadata": {
        "id": "_VilLI4rne6j",
        "colab_type": "code",
        "colab": {
          "base_uri": "https://localhost:8080/",
          "height": 34
        },
        "outputId": "a63625c7-4ed8-4985-a53f-dd3c52b0198c"
      },
      "source": [
        "bob.clear_objects()"
      ],
      "execution_count": 95,
      "outputs": [
        {
          "output_type": "execute_result",
          "data": {
            "text/plain": [
              "<VirtualWorker id:bob #objects:0>"
            ]
          },
          "metadata": {
            "tags": []
          },
          "execution_count": 95
        }
      ]
    },
    {
      "cell_type": "code",
      "metadata": {
        "id": "Y8QQUTd6OWCI",
        "colab_type": "code",
        "colab": {
          "base_uri": "https://localhost:8080/",
          "height": 34
        },
        "outputId": "932edcae-93ba-45a1-9c1e-e7a3d25373f0"
      },
      "source": [
        "alice.clear_objects()"
      ],
      "execution_count": 96,
      "outputs": [
        {
          "output_type": "execute_result",
          "data": {
            "text/plain": [
              "<VirtualWorker id:alice #objects:0>"
            ]
          },
          "metadata": {
            "tags": []
          },
          "execution_count": 96
        }
      ]
    },
    {
      "cell_type": "code",
      "metadata": {
        "id": "3XQm6A1DOYwM",
        "colab_type": "code",
        "colab": {}
      },
      "source": [
        "x = th.tensor([1,2,3,4,5]).send(bob)"
      ],
      "execution_count": 0,
      "outputs": []
    },
    {
      "cell_type": "code",
      "metadata": {
        "id": "i7w-KsV5Ob48",
        "colab_type": "code",
        "colab": {
          "base_uri": "https://localhost:8080/",
          "height": 34
        },
        "outputId": "6b948ce6-d11d-47c3-fdcb-989b1ef53ded"
      },
      "source": [
        "x.send(alice)"
      ],
      "execution_count": 98,
      "outputs": [
        {
          "output_type": "execute_result",
          "data": {
            "text/plain": [
              "(Wrapper)>[PointerTensor | me:125737944 -> alice:34679679524]"
            ]
          },
          "metadata": {
            "tags": []
          },
          "execution_count": 98
        }
      ]
    },
    {
      "cell_type": "code",
      "metadata": {
        "id": "GiNmqA-fOcb-",
        "colab_type": "code",
        "colab": {
          "base_uri": "https://localhost:8080/",
          "height": 34
        },
        "outputId": "8bfe23cd-0c5f-45fe-956d-02d2c15d7cd5"
      },
      "source": [
        "bob._objects"
      ],
      "execution_count": 99,
      "outputs": [
        {
          "output_type": "execute_result",
          "data": {
            "text/plain": [
              "{43677048617: tensor([1, 2, 3, 4, 5])}"
            ]
          },
          "metadata": {
            "tags": []
          },
          "execution_count": 99
        }
      ]
    },
    {
      "cell_type": "code",
      "metadata": {
        "id": "TM5nQBZnOmt5",
        "colab_type": "code",
        "colab": {
          "base_uri": "https://localhost:8080/",
          "height": 34
        },
        "outputId": "a6685e84-7b4f-4e9f-e29f-3ee1a9f02226"
      },
      "source": [
        "alice._objects"
      ],
      "execution_count": 100,
      "outputs": [
        {
          "output_type": "execute_result",
          "data": {
            "text/plain": [
              "{34679679524: (Wrapper)>[PointerTensor | alice:34679679524 -> bob:43677048617]}"
            ]
          },
          "metadata": {
            "tags": []
          },
          "execution_count": 100
        }
      ]
    },
    {
      "cell_type": "code",
      "metadata": {
        "id": "de2rGoJKPXs1",
        "colab_type": "code",
        "colab": {}
      },
      "source": [
        "y = x + x"
      ],
      "execution_count": 0,
      "outputs": []
    },
    {
      "cell_type": "code",
      "metadata": {
        "id": "GhMQWbzSPeya",
        "colab_type": "code",
        "colab": {
          "base_uri": "https://localhost:8080/",
          "height": 34
        },
        "outputId": "6a6042c1-8377-4a6e-a678-530422151c41"
      },
      "source": [
        "y"
      ],
      "execution_count": 102,
      "outputs": [
        {
          "output_type": "execute_result",
          "data": {
            "text/plain": [
              "(Wrapper)>[PointerTensor | me:41476035765 -> bob:54227271707]"
            ]
          },
          "metadata": {
            "tags": []
          },
          "execution_count": 102
        }
      ]
    },
    {
      "cell_type": "code",
      "metadata": {
        "id": "fQreUFiEPosW",
        "colab_type": "code",
        "colab": {
          "base_uri": "https://localhost:8080/",
          "height": 52
        },
        "outputId": "8d966209-e4c6-4964-9b13-ba30d088b249"
      },
      "source": [
        "bob._objects"
      ],
      "execution_count": 103,
      "outputs": [
        {
          "output_type": "execute_result",
          "data": {
            "text/plain": [
              "{43677048617: tensor([1, 2, 3, 4, 5]),\n",
              " 54227271707: tensor([ 2,  4,  6,  8, 10])}"
            ]
          },
          "metadata": {
            "tags": []
          },
          "execution_count": 103
        }
      ]
    },
    {
      "cell_type": "code",
      "metadata": {
        "id": "H2NrqntRPxvF",
        "colab_type": "code",
        "colab": {
          "base_uri": "https://localhost:8080/",
          "height": 34
        },
        "outputId": "f14db483-2826-4902-f1a3-8681294a47be"
      },
      "source": [
        "alice._objects"
      ],
      "execution_count": 104,
      "outputs": [
        {
          "output_type": "execute_result",
          "data": {
            "text/plain": [
              "{34679679524: (Wrapper)>[PointerTensor | alice:34679679524 -> bob:43677048617]}"
            ]
          },
          "metadata": {
            "tags": []
          },
          "execution_count": 104
        }
      ]
    },
    {
      "cell_type": "code",
      "metadata": {
        "id": "rC-kW4VRP-xf",
        "colab_type": "code",
        "colab": {}
      },
      "source": [
        "jon = sy.VirtualWorker(hook, id=\"jon\")"
      ],
      "execution_count": 0,
      "outputs": []
    },
    {
      "cell_type": "code",
      "metadata": {
        "id": "GQgYZUHpQov-",
        "colab_type": "code",
        "colab": {}
      },
      "source": [
        "bob.clear_objects()\n",
        "alice.clear_objects()\n",
        "\n",
        "x = th.tensor([1,2,3,4,5]).send(bob).send(alice)\n",
        "# y = th.tensor([1,2,3,4,5]).send(bob).send(jon)"
      ],
      "execution_count": 0,
      "outputs": []
    },
    {
      "cell_type": "code",
      "metadata": {
        "id": "T54mLYrBRZZb",
        "colab_type": "code",
        "colab": {
          "base_uri": "https://localhost:8080/",
          "height": 34
        },
        "outputId": "876c2811-5409-42c1-b406-c021cf4fc410"
      },
      "source": [
        "bob._objects"
      ],
      "execution_count": 112,
      "outputs": [
        {
          "output_type": "execute_result",
          "data": {
            "text/plain": [
              "{90195200451: tensor([1, 2, 3, 4, 5])}"
            ]
          },
          "metadata": {
            "tags": []
          },
          "execution_count": 112
        }
      ]
    },
    {
      "cell_type": "code",
      "metadata": {
        "id": "tSz0TqUiRb7t",
        "colab_type": "code",
        "colab": {
          "base_uri": "https://localhost:8080/",
          "height": 34
        },
        "outputId": "172bb71b-2baf-4961-ce47-c8f90c7764a9"
      },
      "source": [
        "alice._objects"
      ],
      "execution_count": 113,
      "outputs": [
        {
          "output_type": "execute_result",
          "data": {
            "text/plain": [
              "{54165771993: (Wrapper)>[PointerTensor | alice:54165771993 -> bob:90195200451]}"
            ]
          },
          "metadata": {
            "tags": []
          },
          "execution_count": 113
        }
      ]
    },
    {
      "cell_type": "code",
      "metadata": {
        "id": "bzlN3NWGQ0G0",
        "colab_type": "code",
        "colab": {
          "base_uri": "https://localhost:8080/",
          "height": 34
        },
        "outputId": "161b3b37-45a9-4f66-a6d4-2ca98c5b3427"
      },
      "source": [
        "x = x.get()\n",
        "x"
      ],
      "execution_count": 114,
      "outputs": [
        {
          "output_type": "execute_result",
          "data": {
            "text/plain": [
              "(Wrapper)>[PointerTensor | me:54165771993 -> bob:90195200451]"
            ]
          },
          "metadata": {
            "tags": []
          },
          "execution_count": 114
        }
      ]
    },
    {
      "cell_type": "code",
      "metadata": {
        "id": "LIf-Jhf9RKQt",
        "colab_type": "code",
        "colab": {
          "base_uri": "https://localhost:8080/",
          "height": 34
        },
        "outputId": "10b15cf2-cf84-4b1b-e8cf-19b1aa53af17"
      },
      "source": [
        "bob._objects"
      ],
      "execution_count": 115,
      "outputs": [
        {
          "output_type": "execute_result",
          "data": {
            "text/plain": [
              "{90195200451: tensor([1, 2, 3, 4, 5])}"
            ]
          },
          "metadata": {
            "tags": []
          },
          "execution_count": 115
        }
      ]
    },
    {
      "cell_type": "code",
      "metadata": {
        "id": "JclK4S4PRl8l",
        "colab_type": "code",
        "colab": {
          "base_uri": "https://localhost:8080/",
          "height": 34
        },
        "outputId": "8431bf3f-1c26-4f61-fc43-04aa2418db5e"
      },
      "source": [
        "alice._objects"
      ],
      "execution_count": 116,
      "outputs": [
        {
          "output_type": "execute_result",
          "data": {
            "text/plain": [
              "{}"
            ]
          },
          "metadata": {
            "tags": []
          },
          "execution_count": 116
        }
      ]
    },
    {
      "cell_type": "code",
      "metadata": {
        "id": "iDA4Q9CRRnXT",
        "colab_type": "code",
        "colab": {
          "base_uri": "https://localhost:8080/",
          "height": 34
        },
        "outputId": "70b9f9c7-1e7a-4759-b718-75378b24a5b4"
      },
      "source": [
        "x = x.get()\n",
        "x"
      ],
      "execution_count": 117,
      "outputs": [
        {
          "output_type": "execute_result",
          "data": {
            "text/plain": [
              "tensor([1, 2, 3, 4, 5])"
            ]
          },
          "metadata": {
            "tags": []
          },
          "execution_count": 117
        }
      ]
    },
    {
      "cell_type": "code",
      "metadata": {
        "id": "vFV7TcjhRwYA",
        "colab_type": "code",
        "colab": {
          "base_uri": "https://localhost:8080/",
          "height": 34
        },
        "outputId": "282a2caf-31de-481a-82fd-e327124387f7"
      },
      "source": [
        "alice._objects"
      ],
      "execution_count": 118,
      "outputs": [
        {
          "output_type": "execute_result",
          "data": {
            "text/plain": [
              "{}"
            ]
          },
          "metadata": {
            "tags": []
          },
          "execution_count": 118
        }
      ]
    },
    {
      "cell_type": "code",
      "metadata": {
        "id": "Ns23PDmfRzVX",
        "colab_type": "code",
        "colab": {
          "base_uri": "https://localhost:8080/",
          "height": 34
        },
        "outputId": "90774e14-89e0-44f4-f76d-da87e66ec18b"
      },
      "source": [
        "bob._objects"
      ],
      "execution_count": 119,
      "outputs": [
        {
          "output_type": "execute_result",
          "data": {
            "text/plain": [
              "{}"
            ]
          },
          "metadata": {
            "tags": []
          },
          "execution_count": 119
        }
      ]
    },
    {
      "cell_type": "code",
      "metadata": {
        "id": "VDwhGJiaR0jR",
        "colab_type": "code",
        "colab": {}
      },
      "source": [
        "bob.clear_objects()\n",
        "alice.clear_objects()\n",
        "\n",
        "x = th.tensor([1,2,3,4,5]).send(bob).send(alice)"
      ],
      "execution_count": 0,
      "outputs": []
    },
    {
      "cell_type": "code",
      "metadata": {
        "id": "FYHMbXJTS8yR",
        "colab_type": "code",
        "colab": {
          "base_uri": "https://localhost:8080/",
          "height": 34
        },
        "outputId": "dc68fbcd-b644-4fa6-e61a-682eaf55ff5f"
      },
      "source": [
        "bob._objects"
      ],
      "execution_count": 121,
      "outputs": [
        {
          "output_type": "execute_result",
          "data": {
            "text/plain": [
              "{40708945831: tensor([1, 2, 3, 4, 5])}"
            ]
          },
          "metadata": {
            "tags": []
          },
          "execution_count": 121
        }
      ]
    },
    {
      "cell_type": "code",
      "metadata": {
        "id": "eUjDw-koTBnZ",
        "colab_type": "code",
        "colab": {
          "base_uri": "https://localhost:8080/",
          "height": 34
        },
        "outputId": "c0b2c867-34a2-448b-c945-57cd20a283be"
      },
      "source": [
        "alice._objects"
      ],
      "execution_count": 122,
      "outputs": [
        {
          "output_type": "execute_result",
          "data": {
            "text/plain": [
              "{10801929412: (Wrapper)>[PointerTensor | alice:10801929412 -> bob:40708945831]}"
            ]
          },
          "metadata": {
            "tags": []
          },
          "execution_count": 122
        }
      ]
    },
    {
      "cell_type": "code",
      "metadata": {
        "id": "k6JZ-kCuTCMV",
        "colab_type": "code",
        "colab": {}
      },
      "source": [
        "del x"
      ],
      "execution_count": 0,
      "outputs": []
    },
    {
      "cell_type": "code",
      "metadata": {
        "id": "VIcSYWEuTDP-",
        "colab_type": "code",
        "colab": {
          "base_uri": "https://localhost:8080/",
          "height": 34
        },
        "outputId": "75b28f5d-5bd7-4afc-aed6-65e7397fd4b6"
      },
      "source": [
        "bob._objects"
      ],
      "execution_count": 124,
      "outputs": [
        {
          "output_type": "execute_result",
          "data": {
            "text/plain": [
              "{}"
            ]
          },
          "metadata": {
            "tags": []
          },
          "execution_count": 124
        }
      ]
    },
    {
      "cell_type": "code",
      "metadata": {
        "id": "trxBVQ3UTFlS",
        "colab_type": "code",
        "colab": {
          "base_uri": "https://localhost:8080/",
          "height": 34
        },
        "outputId": "5d976b80-7495-4f9b-8f80-c1826887c5a8"
      },
      "source": [
        "alice._objects"
      ],
      "execution_count": 125,
      "outputs": [
        {
          "output_type": "execute_result",
          "data": {
            "text/plain": [
              "{}"
            ]
          },
          "metadata": {
            "tags": []
          },
          "execution_count": 125
        }
      ]
    },
    {
      "cell_type": "markdown",
      "metadata": {
        "id": "YvRnq7lcTYS0",
        "colab_type": "text"
      },
      "source": [
        "**Lesson:** Pointer Chain Operations"
      ]
    },
    {
      "cell_type": "code",
      "metadata": {
        "id": "S2KQq7jkTF5b",
        "colab_type": "code",
        "colab": {
          "base_uri": "https://localhost:8080/",
          "height": 34
        },
        "outputId": "5cda81f1-1076-4475-d1f3-006d5c1a3458"
      },
      "source": [
        "bob.clear_objects()\n",
        "alice.clear_objects()"
      ],
      "execution_count": 126,
      "outputs": [
        {
          "output_type": "execute_result",
          "data": {
            "text/plain": [
              "<VirtualWorker id:alice #objects:0>"
            ]
          },
          "metadata": {
            "tags": []
          },
          "execution_count": 126
        }
      ]
    },
    {
      "cell_type": "code",
      "metadata": {
        "id": "vFEersYRTpel",
        "colab_type": "code",
        "colab": {}
      },
      "source": [
        "x = th.tensor([1,2,3,4,5]).send(bob).send(alice)"
      ],
      "execution_count": 0,
      "outputs": []
    },
    {
      "cell_type": "code",
      "metadata": {
        "id": "fJwjvyQRTxgi",
        "colab_type": "code",
        "colab": {
          "base_uri": "https://localhost:8080/",
          "height": 34
        },
        "outputId": "24cda78b-d10a-4c03-96a1-4f58868ca21a"
      },
      "source": [
        "bob._objects"
      ],
      "execution_count": 128,
      "outputs": [
        {
          "output_type": "execute_result",
          "data": {
            "text/plain": [
              "{22431223411: tensor([1, 2, 3, 4, 5])}"
            ]
          },
          "metadata": {
            "tags": []
          },
          "execution_count": 128
        }
      ]
    },
    {
      "cell_type": "code",
      "metadata": {
        "id": "sJ9IxU0oTyxb",
        "colab_type": "code",
        "colab": {
          "base_uri": "https://localhost:8080/",
          "height": 34
        },
        "outputId": "a4e32f52-1f75-4ab1-b62b-ca1c45c96674"
      },
      "source": [
        "alice._objects"
      ],
      "execution_count": 129,
      "outputs": [
        {
          "output_type": "execute_result",
          "data": {
            "text/plain": [
              "{23318366738: (Wrapper)>[PointerTensor | alice:23318366738 -> bob:22431223411]}"
            ]
          },
          "metadata": {
            "tags": []
          },
          "execution_count": 129
        }
      ]
    },
    {
      "cell_type": "code",
      "metadata": {
        "id": "p07SjluDTzQq",
        "colab_type": "code",
        "colab": {}
      },
      "source": [
        "x = x.remote_get()"
      ],
      "execution_count": 0,
      "outputs": []
    },
    {
      "cell_type": "code",
      "metadata": {
        "id": "mGLAhujjUNtS",
        "colab_type": "code",
        "colab": {
          "base_uri": "https://localhost:8080/",
          "height": 34
        },
        "outputId": "b1921850-32c5-4b41-bbea-8beb11f45959"
      },
      "source": [
        "bob._objects"
      ],
      "execution_count": 131,
      "outputs": [
        {
          "output_type": "execute_result",
          "data": {
            "text/plain": [
              "{}"
            ]
          },
          "metadata": {
            "tags": []
          },
          "execution_count": 131
        }
      ]
    },
    {
      "cell_type": "code",
      "metadata": {
        "id": "6IkZAKl1UPU1",
        "colab_type": "code",
        "colab": {
          "base_uri": "https://localhost:8080/",
          "height": 34
        },
        "outputId": "de2e360f-47a9-488b-dc3f-0483cd2c5c34"
      },
      "source": [
        "alice._objects"
      ],
      "execution_count": 132,
      "outputs": [
        {
          "output_type": "execute_result",
          "data": {
            "text/plain": [
              "{23318366738: tensor([1, 2, 3, 4, 5])}"
            ]
          },
          "metadata": {
            "tags": []
          },
          "execution_count": 132
        }
      ]
    },
    {
      "cell_type": "code",
      "metadata": {
        "id": "KYQ87JpBUPzy",
        "colab_type": "code",
        "colab": {
          "base_uri": "https://localhost:8080/",
          "height": 34
        },
        "outputId": "d2601bfb-21b4-4a51-bdc9-b7c2e128e109"
      },
      "source": [
        "x.move(bob)"
      ],
      "execution_count": 133,
      "outputs": [
        {
          "output_type": "execute_result",
          "data": {
            "text/plain": [
              "(Wrapper)>[PointerTensor | me:59297662644 -> bob:9262286171]"
            ]
          },
          "metadata": {
            "tags": []
          },
          "execution_count": 133
        }
      ]
    },
    {
      "cell_type": "code",
      "metadata": {
        "id": "hwaOAMNbUR0v",
        "colab_type": "code",
        "colab": {
          "base_uri": "https://localhost:8080/",
          "height": 34
        },
        "outputId": "f65a414b-3ae8-4cf0-d826-4672f22599b4"
      },
      "source": [
        "x"
      ],
      "execution_count": 134,
      "outputs": [
        {
          "output_type": "execute_result",
          "data": {
            "text/plain": [
              "(Wrapper)>[PointerTensor | me:59297662644 -> bob:9262286171]"
            ]
          },
          "metadata": {
            "tags": []
          },
          "execution_count": 134
        }
      ]
    },
    {
      "cell_type": "code",
      "metadata": {
        "id": "Sru3CpE9UXI8",
        "colab_type": "code",
        "colab": {
          "base_uri": "https://localhost:8080/",
          "height": 34
        },
        "outputId": "52fe9eb5-fa00-4ed6-8ce1-5f9f0bba9ef3"
      },
      "source": [
        "bob._objects"
      ],
      "execution_count": 135,
      "outputs": [
        {
          "output_type": "execute_result",
          "data": {
            "text/plain": [
              "{9262286171: tensor([1, 2, 3, 4, 5])}"
            ]
          },
          "metadata": {
            "tags": []
          },
          "execution_count": 135
        }
      ]
    },
    {
      "cell_type": "code",
      "metadata": {
        "id": "WYm9oTF1UZGj",
        "colab_type": "code",
        "colab": {
          "base_uri": "https://localhost:8080/",
          "height": 34
        },
        "outputId": "31a4d5f8-89f5-40bb-9ade-1c565e02f4e7"
      },
      "source": [
        "alice._objects"
      ],
      "execution_count": 136,
      "outputs": [
        {
          "output_type": "execute_result",
          "data": {
            "text/plain": [
              "{}"
            ]
          },
          "metadata": {
            "tags": []
          },
          "execution_count": 136
        }
      ]
    },
    {
      "cell_type": "code",
      "metadata": {
        "id": "VunqoLllUp3g",
        "colab_type": "code",
        "colab": {}
      },
      "source": [
        ""
      ],
      "execution_count": 0,
      "outputs": []
    }
  ]
}