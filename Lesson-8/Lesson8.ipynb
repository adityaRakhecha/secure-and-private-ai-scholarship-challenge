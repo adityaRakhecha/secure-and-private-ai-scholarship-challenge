{
  "nbformat": 4,
  "nbformat_minor": 0,
  "metadata": {
    "colab": {
      "name": "Lesson8.ipynb",
      "version": "0.3.2",
      "provenance": []
    },
    "kernelspec": {
      "name": "python3",
      "display_name": "Python 3"
    }
  },
  "cells": [
    {
      "cell_type": "markdown",
      "metadata": {
        "id": "KuCoW_NZOcZC",
        "colab_type": "text"
      },
      "source": [
        "Section: Securing Federated Learning"
      ]
    },
    {
      "cell_type": "markdown",
      "metadata": {
        "id": "WrLcRoV0OiUT",
        "colab_type": "text"
      },
      "source": [
        "Project: Federated Learning with a Trusted Aggregator"
      ]
    },
    {
      "cell_type": "code",
      "metadata": {
        "id": "Ex2MrznGOa6u",
        "colab_type": "code",
        "colab": {
          "base_uri": "https://localhost:8080/",
          "height": 801
        },
        "outputId": "4114cec1-7836-43c1-c432-4f36f1ea73bc"
      },
      "source": [
        "!pip install syft"
      ],
      "execution_count": 56,
      "outputs": [
        {
          "output_type": "stream",
          "text": [
            "Requirement already satisfied: syft in /usr/local/lib/python3.6/dist-packages (0.1.23a1)\n",
            "Requirement already satisfied: numpy>=1.14.0 in /usr/local/lib/python3.6/dist-packages (from syft) (1.16.4)\n",
            "Requirement already satisfied: scikit-learn>=0.21.0 in /usr/local/lib/python3.6/dist-packages (from syft) (0.21.3)\n",
            "Requirement already satisfied: tf-encrypted!=0.5.7,>=0.5.4 in /usr/local/lib/python3.6/dist-packages (from syft) (0.5.8)\n",
            "Requirement already satisfied: flask-socketio>=3.3.2 in /usr/local/lib/python3.6/dist-packages (from syft) (4.2.1)\n",
            "Requirement already satisfied: torchvision==0.3.0 in /usr/local/lib/python3.6/dist-packages (from syft) (0.3.0)\n",
            "Requirement already satisfied: Flask>=1.0.2 in /usr/local/lib/python3.6/dist-packages (from syft) (1.1.1)\n",
            "Requirement already satisfied: websocket-client>=0.56.0 in /usr/local/lib/python3.6/dist-packages (from syft) (0.56.0)\n",
            "Requirement already satisfied: zstd>=1.4.0.0 in /usr/local/lib/python3.6/dist-packages (from syft) (1.4.1.0)\n",
            "Requirement already satisfied: msgpack>=0.6.1 in /usr/local/lib/python3.6/dist-packages (from syft) (0.6.1)\n",
            "Requirement already satisfied: tblib>=1.4.0 in /usr/local/lib/python3.6/dist-packages (from syft) (1.4.0)\n",
            "Requirement already satisfied: lz4>=2.1.6 in /usr/local/lib/python3.6/dist-packages (from syft) (2.1.10)\n",
            "Requirement already satisfied: torch==1.1 in /usr/local/lib/python3.6/dist-packages (from syft) (1.1.0)\n",
            "Requirement already satisfied: websockets>=7.0 in /usr/local/lib/python3.6/dist-packages (from syft) (8.0.2)\n",
            "Requirement already satisfied: scipy>=0.17.0 in /usr/local/lib/python3.6/dist-packages (from scikit-learn>=0.21.0->syft) (1.3.1)\n",
            "Requirement already satisfied: joblib>=0.11 in /usr/local/lib/python3.6/dist-packages (from scikit-learn>=0.21.0->syft) (0.13.2)\n",
            "Requirement already satisfied: tensorflow<2,>=1.12.0 in /usr/local/lib/python3.6/dist-packages (from tf-encrypted!=0.5.7,>=0.5.4->syft) (1.14.0)\n",
            "Requirement already satisfied: pyyaml>=5.1 in /usr/local/lib/python3.6/dist-packages (from tf-encrypted!=0.5.7,>=0.5.4->syft) (5.1.2)\n",
            "Requirement already satisfied: python-socketio>=4.3.0 in /usr/local/lib/python3.6/dist-packages (from flask-socketio>=3.3.2->syft) (4.3.1)\n",
            "Requirement already satisfied: pillow>=4.1.1 in /usr/local/lib/python3.6/dist-packages (from torchvision==0.3.0->syft) (4.3.0)\n",
            "Requirement already satisfied: six in /usr/local/lib/python3.6/dist-packages (from torchvision==0.3.0->syft) (1.12.0)\n",
            "Requirement already satisfied: click>=5.1 in /usr/local/lib/python3.6/dist-packages (from Flask>=1.0.2->syft) (7.0)\n",
            "Requirement already satisfied: Jinja2>=2.10.1 in /usr/local/lib/python3.6/dist-packages (from Flask>=1.0.2->syft) (2.10.1)\n",
            "Requirement already satisfied: itsdangerous>=0.24 in /usr/local/lib/python3.6/dist-packages (from Flask>=1.0.2->syft) (1.1.0)\n",
            "Requirement already satisfied: Werkzeug>=0.15 in /usr/local/lib/python3.6/dist-packages (from Flask>=1.0.2->syft) (0.15.5)\n",
            "Requirement already satisfied: google-pasta>=0.1.6 in /usr/local/lib/python3.6/dist-packages (from tensorflow<2,>=1.12.0->tf-encrypted!=0.5.7,>=0.5.4->syft) (0.1.7)\n",
            "Requirement already satisfied: keras-preprocessing>=1.0.5 in /usr/local/lib/python3.6/dist-packages (from tensorflow<2,>=1.12.0->tf-encrypted!=0.5.7,>=0.5.4->syft) (1.1.0)\n",
            "Requirement already satisfied: gast>=0.2.0 in /usr/local/lib/python3.6/dist-packages (from tensorflow<2,>=1.12.0->tf-encrypted!=0.5.7,>=0.5.4->syft) (0.2.2)\n",
            "Requirement already satisfied: keras-applications>=1.0.6 in /usr/local/lib/python3.6/dist-packages (from tensorflow<2,>=1.12.0->tf-encrypted!=0.5.7,>=0.5.4->syft) (1.0.8)\n",
            "Requirement already satisfied: wrapt>=1.11.1 in /usr/local/lib/python3.6/dist-packages (from tensorflow<2,>=1.12.0->tf-encrypted!=0.5.7,>=0.5.4->syft) (1.11.2)\n",
            "Requirement already satisfied: tensorboard<1.15.0,>=1.14.0 in /usr/local/lib/python3.6/dist-packages (from tensorflow<2,>=1.12.0->tf-encrypted!=0.5.7,>=0.5.4->syft) (1.14.0)\n",
            "Requirement already satisfied: termcolor>=1.1.0 in /usr/local/lib/python3.6/dist-packages (from tensorflow<2,>=1.12.0->tf-encrypted!=0.5.7,>=0.5.4->syft) (1.1.0)\n",
            "Requirement already satisfied: protobuf>=3.6.1 in /usr/local/lib/python3.6/dist-packages (from tensorflow<2,>=1.12.0->tf-encrypted!=0.5.7,>=0.5.4->syft) (3.7.1)\n",
            "Requirement already satisfied: grpcio>=1.8.6 in /usr/local/lib/python3.6/dist-packages (from tensorflow<2,>=1.12.0->tf-encrypted!=0.5.7,>=0.5.4->syft) (1.15.0)\n",
            "Requirement already satisfied: wheel>=0.26 in /usr/local/lib/python3.6/dist-packages (from tensorflow<2,>=1.12.0->tf-encrypted!=0.5.7,>=0.5.4->syft) (0.33.4)\n",
            "Requirement already satisfied: absl-py>=0.7.0 in /usr/local/lib/python3.6/dist-packages (from tensorflow<2,>=1.12.0->tf-encrypted!=0.5.7,>=0.5.4->syft) (0.7.1)\n",
            "Requirement already satisfied: tensorflow-estimator<1.15.0rc0,>=1.14.0rc0 in /usr/local/lib/python3.6/dist-packages (from tensorflow<2,>=1.12.0->tf-encrypted!=0.5.7,>=0.5.4->syft) (1.14.0)\n",
            "Requirement already satisfied: astor>=0.6.0 in /usr/local/lib/python3.6/dist-packages (from tensorflow<2,>=1.12.0->tf-encrypted!=0.5.7,>=0.5.4->syft) (0.8.0)\n",
            "Requirement already satisfied: python-engineio>=3.9.0 in /usr/local/lib/python3.6/dist-packages (from python-socketio>=4.3.0->flask-socketio>=3.3.2->syft) (3.9.3)\n",
            "Requirement already satisfied: olefile in /usr/local/lib/python3.6/dist-packages (from pillow>=4.1.1->torchvision==0.3.0->syft) (0.46)\n",
            "Requirement already satisfied: MarkupSafe>=0.23 in /usr/local/lib/python3.6/dist-packages (from Jinja2>=2.10.1->Flask>=1.0.2->syft) (1.1.1)\n",
            "Requirement already satisfied: h5py in /usr/local/lib/python3.6/dist-packages (from keras-applications>=1.0.6->tensorflow<2,>=1.12.0->tf-encrypted!=0.5.7,>=0.5.4->syft) (2.8.0)\n",
            "Requirement already satisfied: markdown>=2.6.8 in /usr/local/lib/python3.6/dist-packages (from tensorboard<1.15.0,>=1.14.0->tensorflow<2,>=1.12.0->tf-encrypted!=0.5.7,>=0.5.4->syft) (3.1.1)\n",
            "Requirement already satisfied: setuptools>=41.0.0 in /usr/local/lib/python3.6/dist-packages (from tensorboard<1.15.0,>=1.14.0->tensorflow<2,>=1.12.0->tf-encrypted!=0.5.7,>=0.5.4->syft) (41.0.1)\n"
          ],
          "name": "stdout"
        }
      ]
    },
    {
      "cell_type": "code",
      "metadata": {
        "id": "w3raLivRO2Fe",
        "colab_type": "code",
        "colab": {
          "base_uri": "https://localhost:8080/",
          "height": 34
        },
        "outputId": "2562b346-0ad8-4e5a-9487-00689bbf0bdd"
      },
      "source": [
        "import syft as sy\n",
        "import torch as th\n",
        "hook = sy.TorchHook(th)\n",
        "from torch import nn, optim"
      ],
      "execution_count": 57,
      "outputs": [
        {
          "output_type": "stream",
          "text": [
            "W0816 19:04:23.512202 140471712753536 hook.py:98] Torch was already hooked... skipping hooking process\n"
          ],
          "name": "stderr"
        }
      ]
    },
    {
      "cell_type": "code",
      "metadata": {
        "id": "cy2bPx1WPFFo",
        "colab_type": "code",
        "colab": {}
      },
      "source": [
        "# create a couple workers\n",
        "\n",
        "bob = sy.VirtualWorker(hook, id=\"bob\")\n",
        "alice = sy.VirtualWorker(hook, id=\"alice\")\n",
        "secure_worker = sy.VirtualWorker(hook, id=\"secure_worker\")"
      ],
      "execution_count": 0,
      "outputs": []
    },
    {
      "cell_type": "code",
      "metadata": {
        "id": "nt-7pgAPPeQv",
        "colab_type": "code",
        "colab": {
          "base_uri": "https://localhost:8080/",
          "height": 159
        },
        "outputId": "e6daaab9-be5f-4ff2-9fcc-86411945fb4a"
      },
      "source": [
        "bob.add_workers([alice, secure_worker])\n",
        "alice.add_workers([bob, secure_worker])\n",
        "secure_worker.add_workers([alice,bob])"
      ],
      "execution_count": 59,
      "outputs": [
        {
          "output_type": "stream",
          "text": [
            "W0816 19:04:23.545953 140471712753536 base.py:646] Worker alice already exists. Replacing old worker which could cause                     unexpected behavior\n",
            "W0816 19:04:23.549605 140471712753536 base.py:646] Worker secure_worker already exists. Replacing old worker which could cause                     unexpected behavior\n",
            "W0816 19:04:23.551928 140471712753536 base.py:646] Worker bob already exists. Replacing old worker which could cause                     unexpected behavior\n",
            "W0816 19:04:23.553277 140471712753536 base.py:646] Worker secure_worker already exists. Replacing old worker which could cause                     unexpected behavior\n",
            "W0816 19:04:23.556054 140471712753536 base.py:646] Worker alice already exists. Replacing old worker which could cause                     unexpected behavior\n",
            "W0816 19:04:23.558022 140471712753536 base.py:646] Worker bob already exists. Replacing old worker which could cause                     unexpected behavior\n"
          ],
          "name": "stderr"
        },
        {
          "output_type": "execute_result",
          "data": {
            "text/plain": [
              "<VirtualWorker id:secure_worker #objects:0>"
            ]
          },
          "metadata": {
            "tags": []
          },
          "execution_count": 59
        }
      ]
    },
    {
      "cell_type": "code",
      "metadata": {
        "id": "ZlJmm2_MWEgQ",
        "colab_type": "code",
        "colab": {}
      },
      "source": [
        "# A toy dataset\n",
        "data = th.tensor([[0,0], [0,1], [1,0], [1,1.]], requires_grad=True)\n",
        "target = th.tensor([[0], [0], [1], [1.]], requires_grad=True)"
      ],
      "execution_count": 0,
      "outputs": []
    },
    {
      "cell_type": "code",
      "metadata": {
        "id": "9wurLqaOWlPc",
        "colab_type": "code",
        "colab": {}
      },
      "source": [
        "# get pointers to training data on each worker by\n",
        "# sending some training data to bob and alice\n",
        "bobs_data = data[0:2].send(bob)\n",
        "bobs_target = target = target[0:2].send(bob)"
      ],
      "execution_count": 0,
      "outputs": []
    },
    {
      "cell_type": "code",
      "metadata": {
        "id": "oXHqqkxiXCwL",
        "colab_type": "code",
        "colab": {}
      },
      "source": [
        "alices_data = data[2:].send(alice)\n",
        "alices_target = target[2:].send(alice)"
      ],
      "execution_count": 0,
      "outputs": []
    },
    {
      "cell_type": "code",
      "metadata": {
        "id": "YcivzxzzXKob",
        "colab_type": "code",
        "colab": {}
      },
      "source": [
        "# Initialize A toy model\n",
        "model = nn.Linear(2,1)"
      ],
      "execution_count": 0,
      "outputs": []
    },
    {
      "cell_type": "code",
      "metadata": {
        "id": "v5RdXBh8XfmB",
        "colab_type": "code",
        "colab": {
          "base_uri": "https://localhost:8080/",
          "height": 191
        },
        "outputId": "238df8cd-6e35-44d6-b0e8-7d5c3da4396d"
      },
      "source": [
        "for round_iter in range(10):\n",
        "  \n",
        "  bobs_model = model.copy().send(bob)\n",
        "  alices_model = model.copy().send(alice)\n",
        "\n",
        "  bobs_opt = optim.SGD(params=bobs_model.parameters(), lr=0.1)\n",
        "  alices_opt = optim.SGD(params=alices_model.parameters(), lr=0.1)\n",
        "\n",
        "  for i in range(10):\n",
        "\n",
        "    bobs_opt.zero_grad()\n",
        "    bobs_pred = bobs_model(bobs_data)\n",
        "    bobs_loss = ((bobs_pred - bobs_target)**2).sum()\n",
        "    bobs_loss.backward()\n",
        "\n",
        "    bobs_opt.step()\n",
        "    bobs_loss = bobs_loss.get().data\n",
        "    bobs_loss\n",
        "\n",
        "    alices_opt.zero_grad()\n",
        "    alices_pred = alices_model(alices_data)\n",
        "    alices_loss = ((alices_pred - alices_target)**2).sum()\n",
        "    alices_loss.backward()\n",
        "\n",
        "    alices_opt.step()\n",
        "    alices_loss = alices_loss.get().data\n",
        "    alices_loss\n",
        "\n",
        "  alices_model.move(secure_worker)\n",
        "  bobs_model.move(secure_worker)\n",
        "\n",
        "  with th.no_grad():\n",
        "    model.weight.set_(((alices_model.weight.data + bobs_model.weight.data) / 2).get())\n",
        "    model.bias.set_(((alices_model.bias.data + bobs_model.bias.data) / 2).get())\n",
        "    \n",
        "  secure_worker.clear_objects()\n",
        "  \n",
        "  print(\"Bob:\" + str(bobs_loss) + \"Alice:\" + str(alices_loss))"
      ],
      "execution_count": 64,
      "outputs": [
        {
          "output_type": "stream",
          "text": [
            "Bob:tensor(4.7667e-05)Alice:tensor(0.)\n",
            "Bob:tensor(2.4340e-05)Alice:tensor(0.)\n",
            "Bob:tensor(1.2630e-05)Alice:tensor(0.)\n",
            "Bob:tensor(6.6061e-06)Alice:tensor(0.)\n",
            "Bob:tensor(3.4684e-06)Alice:tensor(0.)\n",
            "Bob:tensor(1.8244e-06)Alice:tensor(0.)\n",
            "Bob:tensor(9.6046e-07)Alice:tensor(0.)\n",
            "Bob:tensor(5.0585e-07)Alice:tensor(0.)\n",
            "Bob:tensor(2.6647e-07)Alice:tensor(0.)\n",
            "Bob:tensor(1.4038e-07)Alice:tensor(0.)\n"
          ],
          "name": "stdout"
        }
      ]
    },
    {
      "cell_type": "markdown",
      "metadata": {
        "id": "XuwfQfzUjyKb",
        "colab_type": "text"
      },
      "source": [
        "Project: Build Methods for Encrypt, Decryptm, and Add"
      ]
    },
    {
      "cell_type": "code",
      "metadata": {
        "id": "Ay1RrLhSbwXK",
        "colab_type": "code",
        "colab": {}
      },
      "source": [
        "import random"
      ],
      "execution_count": 0,
      "outputs": []
    },
    {
      "cell_type": "code",
      "metadata": {
        "id": "xu-T--Rskgvk",
        "colab_type": "code",
        "colab": {}
      },
      "source": [
        "Q = 234249863958762043895"
      ],
      "execution_count": 0,
      "outputs": []
    },
    {
      "cell_type": "code",
      "metadata": {
        "id": "G6myABTeki32",
        "colab_type": "code",
        "colab": {}
      },
      "source": [
        "def encrypt(x, n_shares=3):\n",
        "  \n",
        "  shares = list()\n",
        "  \n",
        "  for i in range(n_shares - 1):\n",
        "    shares.append(random.randint(0,Q))\n",
        "    \n",
        "  final_share = Q - (sum(shares) % Q) + x\n",
        "  \n",
        "  shares.append(final_share)\n",
        "  \n",
        "  return tuple(shares)"
      ],
      "execution_count": 0,
      "outputs": []
    },
    {
      "cell_type": "code",
      "metadata": {
        "id": "loO8jki1kjqV",
        "colab_type": "code",
        "colab": {}
      },
      "source": [
        "def decrypt(shares):\n",
        "  return sum(shares) % Q"
      ],
      "execution_count": 0,
      "outputs": []
    },
    {
      "cell_type": "code",
      "metadata": {
        "id": "4ZBHSKj8lC9V",
        "colab_type": "code",
        "colab": {}
      },
      "source": [
        "def add(a, b):\n",
        "  \n",
        "  c = list()\n",
        "  \n",
        "  assert(len(a) == len(b))\n",
        "  \n",
        "  for i in range(len(a)):\n",
        "    c.append((a[i] + b[i]) % Q)\n",
        "    \n",
        "  return tuple(c)"
      ],
      "execution_count": 0,
      "outputs": []
    },
    {
      "cell_type": "code",
      "metadata": {
        "id": "lTW6cKCllZPz",
        "colab_type": "code",
        "colab": {
          "base_uri": "https://localhost:8080/",
          "height": 34
        },
        "outputId": "b9351dc7-563a-4a01-b182-7f6e71a42f52"
      },
      "source": [
        "decrypt(add(encrypt(5), encrypt(10)))"
      ],
      "execution_count": 70,
      "outputs": [
        {
          "output_type": "execute_result",
          "data": {
            "text/plain": [
              "15"
            ]
          },
          "metadata": {
            "tags": []
          },
          "execution_count": 70
        }
      ]
    },
    {
      "cell_type": "markdown",
      "metadata": {
        "id": "NsrhZTyBzPzc",
        "colab_type": "text"
      },
      "source": [
        "Lesson: Intro to Fixed Precision Encoding"
      ]
    },
    {
      "cell_type": "code",
      "metadata": {
        "id": "gDZcZ9vRmISn",
        "colab_type": "code",
        "colab": {}
      },
      "source": [
        "BASE = 10\n",
        "PRECISION = 4\n",
        "Q = 2343564675676743345"
      ],
      "execution_count": 0,
      "outputs": []
    },
    {
      "cell_type": "code",
      "metadata": {
        "id": "7RcZhLTG0Ujs",
        "colab_type": "code",
        "colab": {}
      },
      "source": [
        "def encode(x_dec):\n",
        "  return int(x_dec * (BASE ** PRECISION)) % Q"
      ],
      "execution_count": 0,
      "outputs": []
    },
    {
      "cell_type": "code",
      "metadata": {
        "id": "J2QJ63U40eUG",
        "colab_type": "code",
        "colab": {}
      },
      "source": [
        "def decode(x_fp):\n",
        "  return (x_fp if x_fp <= Q/2 else x_fp - Q) / BASE ** PRECISION"
      ],
      "execution_count": 0,
      "outputs": []
    },
    {
      "cell_type": "code",
      "metadata": {
        "id": "m2pOSemP0rv1",
        "colab_type": "code",
        "colab": {
          "base_uri": "https://localhost:8080/",
          "height": 34
        },
        "outputId": "77a60033-eefa-4559-ca85-303596b6c361"
      },
      "source": [
        "encode(-0.5 - 0.5)"
      ],
      "execution_count": 79,
      "outputs": [
        {
          "output_type": "execute_result",
          "data": {
            "text/plain": [
              "2343564675676733345"
            ]
          },
          "metadata": {
            "tags": []
          },
          "execution_count": 79
        }
      ]
    },
    {
      "cell_type": "code",
      "metadata": {
        "id": "MZiR0HPM0t_l",
        "colab_type": "code",
        "colab": {
          "base_uri": "https://localhost:8080/",
          "height": 34
        },
        "outputId": "b78adaf6-7b74-48bc-d493-328fc3780fc7"
      },
      "source": [
        "decode(2343564675676738345)"
      ],
      "execution_count": 78,
      "outputs": [
        {
          "output_type": "execute_result",
          "data": {
            "text/plain": [
              "-0.5"
            ]
          },
          "metadata": {
            "tags": []
          },
          "execution_count": 78
        }
      ]
    },
    {
      "cell_type": "markdown",
      "metadata": {
        "id": "XZKoj5zR1R9i",
        "colab_type": "text"
      },
      "source": [
        "Lesson: Secret Sharing + Fixed Precision in PySyft"
      ]
    },
    {
      "cell_type": "code",
      "metadata": {
        "id": "yb60REx00ybo",
        "colab_type": "code",
        "colab": {}
      },
      "source": [
        "bob = bob.clear_objects()\n",
        "alice = alice.clear_objects()\n",
        "secure_worker = secure_worker.clear_objects()"
      ],
      "execution_count": 0,
      "outputs": []
    },
    {
      "cell_type": "code",
      "metadata": {
        "id": "Cl0dn_Hq1sAi",
        "colab_type": "code",
        "colab": {
          "base_uri": "https://localhost:8080/",
          "height": 34
        },
        "outputId": "b8d81408-80e3-48a3-f0b0-059f4ed0c7d2"
      },
      "source": [
        "x = th.tensor([1,2,3,4,5])\n",
        "x"
      ],
      "execution_count": 82,
      "outputs": [
        {
          "output_type": "execute_result",
          "data": {
            "text/plain": [
              "tensor([1, 2, 3, 4, 5])"
            ]
          },
          "metadata": {
            "tags": []
          },
          "execution_count": 82
        }
      ]
    },
    {
      "cell_type": "code",
      "metadata": {
        "id": "7tJdLtJA1yeK",
        "colab_type": "code",
        "colab": {
          "base_uri": "https://localhost:8080/",
          "height": 86
        },
        "outputId": "51faf0f5-2687-4898-bbad-6909bca6c7cf"
      },
      "source": [
        "x = x.send(bob, alice, secure_worker)\n",
        "x"
      ],
      "execution_count": 85,
      "outputs": [
        {
          "output_type": "execute_result",
          "data": {
            "text/plain": [
              "(Wrapper)>[MultiPointerTensor]\n",
              "\t-> [PointerTensor | me:38839409845 -> bob:85557518568]\n",
              "\t-> [PointerTensor | me:7990357480 -> alice:27006599859]\n",
              "\t-> [PointerTensor | me:97924458133 -> secure_worker:47269200841]"
            ]
          },
          "metadata": {
            "tags": []
          },
          "execution_count": 85
        }
      ]
    },
    {
      "cell_type": "code",
      "metadata": {
        "id": "lwg3hOZZ2UAb",
        "colab_type": "code",
        "colab": {
          "base_uri": "https://localhost:8080/",
          "height": 260
        },
        "outputId": "40c132ed-1c8b-4a60-d2a5-66a7390bba40"
      },
      "source": [
        "bob._objects"
      ],
      "execution_count": 86,
      "outputs": [
        {
          "output_type": "execute_result",
          "data": {
            "text/plain": [
              "{9409332212: tensor([ 275873706702318365, 2282670356661005724, 1508249806676681129,\n",
              "         1954944752490093399,  319637444771099499]),\n",
              " 20662629615: tensor([ 275873706702318365, 2282670356661005724, 1508249806676681129,\n",
              "         1954944752490093399,  319637444771099499]),\n",
              " 62584872626: tensor([ 275873706702318365, 2282670356661005724, 1508249806676681129,\n",
              "         1954944752490093399,  319637444771099499]),\n",
              " 70689600495: tensor([ 275873706702318365, 2282670356661005724, 1508249806676681129,\n",
              "         1954944752490093399,  319637444771099499]),\n",
              " 85557518568: (Wrapper)>[AdditiveSharingTensor]\n",
              " \t-> tensor([ 275873706702318365, 2282670356661005724, 1508249806676681129,\n",
              "         1954944752490093399,  319637444771099499])\n",
              " \t-> [PointerTensor | bob:38842800472 -> alice:67722860482]\n",
              " \t-> [PointerTensor | bob:81120625400 -> secure_worker:22843969630]\n",
              " \t*crypto provider: me*}"
            ]
          },
          "metadata": {
            "tags": []
          },
          "execution_count": 86
        }
      ]
    },
    {
      "cell_type": "code",
      "metadata": {
        "id": "RznZM8hL4WqY",
        "colab_type": "code",
        "colab": {}
      },
      "source": [
        "y = x + x"
      ],
      "execution_count": 0,
      "outputs": []
    },
    {
      "cell_type": "code",
      "metadata": {
        "id": "w9SZO1Al4mtX",
        "colab_type": "code",
        "colab": {
          "base_uri": "https://localhost:8080/",
          "height": 434
        },
        "outputId": "809fe9a5-1f6d-469f-a57b-440957923efd"
      },
      "source": [
        "bob._objects"
      ],
      "execution_count": 88,
      "outputs": [
        {
          "output_type": "execute_result",
          "data": {
            "text/plain": [
              "{9409332212: tensor([ 275873706702318365, 2282670356661005724, 1508249806676681129,\n",
              "         1954944752490093399,  319637444771099499]),\n",
              " 20662629615: tensor([ 275873706702318365, 2282670356661005724, 1508249806676681129,\n",
              "         1954944752490093399,  319637444771099499]),\n",
              " 30004191026: tensor([ 551747413404636730, 4565340713322011448, 3016499613353362258,\n",
              "         3909889504980186798,  639274889542198998]),\n",
              " 53768740351: tensor([ 551747413404636730, 4565340713322011448, 3016499613353362258,\n",
              "         3909889504980186798,  639274889542198998]),\n",
              " 61707577782: (Wrapper)>[AdditiveSharingTensor]\n",
              " \t-> tensor([ 551747413404636730, 4565340713322011448, 3016499613353362258,\n",
              "         3909889504980186798,  639274889542198998])\n",
              " \t-> [PointerTensor | bob:31716758775 -> alice:59855583100]\n",
              " \t-> [PointerTensor | bob:46315943438 -> secure_worker:61191797929]\n",
              " \t*crypto provider: me*,\n",
              " 62584872626: tensor([ 275873706702318365, 2282670356661005724, 1508249806676681129,\n",
              "         1954944752490093399,  319637444771099499]),\n",
              " 70689600495: tensor([ 275873706702318365, 2282670356661005724, 1508249806676681129,\n",
              "         1954944752490093399,  319637444771099499]),\n",
              " 85557518568: (Wrapper)>[AdditiveSharingTensor]\n",
              " \t-> tensor([ 275873706702318365, 2282670356661005724, 1508249806676681129,\n",
              "         1954944752490093399,  319637444771099499])\n",
              " \t-> [PointerTensor | bob:38842800472 -> alice:67722860482]\n",
              " \t-> [PointerTensor | bob:81120625400 -> secure_worker:22843969630]\n",
              " \t*crypto provider: me*}"
            ]
          },
          "metadata": {
            "tags": []
          },
          "execution_count": 88
        }
      ]
    },
    {
      "cell_type": "code",
      "metadata": {
        "id": "SC4G_faq4oX8",
        "colab_type": "code",
        "colab": {
          "base_uri": "https://localhost:8080/",
          "height": 86
        },
        "outputId": "c1f3e256-94a6-44b9-9643-f7726b0483b9"
      },
      "source": [
        "y"
      ],
      "execution_count": 89,
      "outputs": [
        {
          "output_type": "execute_result",
          "data": {
            "text/plain": [
              "(Wrapper)>[MultiPointerTensor]\n",
              "\t-> [PointerTensor | me:18206243463 -> bob:61707577782]\n",
              "\t-> [PointerTensor | me:86541862069 -> alice:39175235206]\n",
              "\t-> [PointerTensor | me:48176507715 -> secure_worker:95932899999]"
            ]
          },
          "metadata": {
            "tags": []
          },
          "execution_count": 89
        }
      ]
    },
    {
      "cell_type": "code",
      "metadata": {
        "id": "UH_j6djY4roi",
        "colab_type": "code",
        "colab": {
          "base_uri": "https://localhost:8080/",
          "height": 295
        },
        "outputId": "4b5d7462-364c-4e9b-a624-20e68f3b59e3"
      },
      "source": [
        "y.get()"
      ],
      "execution_count": 90,
      "outputs": [
        {
          "output_type": "execute_result",
          "data": {
            "text/plain": [
              "[(Wrapper)>[AdditiveSharingTensor]\n",
              " \t-> tensor([ 551747413404636730, 4565340713322011448, 3016499613353362258,\n",
              "         3909889504980186798,  639274889542198998])\n",
              " \t-> [PointerTensor | me:31716758775 -> alice:59855583100]\n",
              " \t-> [PointerTensor | me:46315943438 -> secure_worker:61191797929]\n",
              " \t*crypto provider: me*, (Wrapper)>[AdditiveSharingTensor]\n",
              " \t-> [PointerTensor | me:95992045306 -> bob:30004191026]\n",
              " \t-> tensor([3693784181484542318, 2956892147350366108, 3635483576050661328,\n",
              "         4319787565357710504,  314185413211429184])\n",
              " \t-> [PointerTensor | me:1912953733 -> secure_worker:74928020820]\n",
              " \t*crypto provider: me*, (Wrapper)>[AdditiveSharingTensor]\n",
              " \t-> [PointerTensor | me:27763109608 -> bob:53768740351]\n",
              " \t-> [PointerTensor | me:12706007060 -> alice:28519608578]\n",
              " \t-> tensor([ 366154423538208858, 1701139176182398256, 2571388847450752228,\n",
              "          993694966516878514, 3658225715673759732])\n",
              " \t*crypto provider: me*]"
            ]
          },
          "metadata": {
            "tags": []
          },
          "execution_count": 90
        }
      ]
    },
    {
      "cell_type": "code",
      "metadata": {
        "id": "-rboQljD4uaj",
        "colab_type": "code",
        "colab": {
          "base_uri": "https://localhost:8080/",
          "height": 34
        },
        "outputId": "e4f5c94d-c8a8-44b4-d73e-868d23a47ef9"
      },
      "source": [
        "x = th.tensor([0.1, 0.2, 0.3, 0.4, 0.5])\n",
        "x"
      ],
      "execution_count": 93,
      "outputs": [
        {
          "output_type": "execute_result",
          "data": {
            "text/plain": [
              "tensor([0.1000, 0.2000, 0.3000, 0.4000, 0.5000])"
            ]
          },
          "metadata": {
            "tags": []
          },
          "execution_count": 93
        }
      ]
    },
    {
      "cell_type": "code",
      "metadata": {
        "id": "-6XePQGt4zMV",
        "colab_type": "code",
        "colab": {}
      },
      "source": [
        "x = x.fix_prec()"
      ],
      "execution_count": 0,
      "outputs": []
    },
    {
      "cell_type": "code",
      "metadata": {
        "id": "FNdqgl7S5FCY",
        "colab_type": "code",
        "colab": {
          "base_uri": "https://localhost:8080/",
          "height": 34
        },
        "outputId": "1120cbdc-6a6a-486c-cf47-49f2e87158fa"
      },
      "source": [
        "x"
      ],
      "execution_count": 95,
      "outputs": [
        {
          "output_type": "execute_result",
          "data": {
            "text/plain": [
              "(Wrapper)>FixedPrecisionTensor>tensor([100, 200, 300, 400, 500])"
            ]
          },
          "metadata": {
            "tags": []
          },
          "execution_count": 95
        }
      ]
    },
    {
      "cell_type": "code",
      "metadata": {
        "id": "W8aUnvwA5FrD",
        "colab_type": "code",
        "colab": {
          "base_uri": "https://localhost:8080/",
          "height": 34
        },
        "outputId": "fd823bd5-8e85-4b8c-c93b-5825968647ae"
      },
      "source": [
        "x = x.float_prec()\n",
        "x"
      ],
      "execution_count": 96,
      "outputs": [
        {
          "output_type": "execute_result",
          "data": {
            "text/plain": [
              "tensor([0.1000, 0.2000, 0.3000, 0.4000, 0.5000])"
            ]
          },
          "metadata": {
            "tags": []
          },
          "execution_count": 96
        }
      ]
    },
    {
      "cell_type": "code",
      "metadata": {
        "id": "IwUWw2Xh5fvm",
        "colab_type": "code",
        "colab": {
          "base_uri": "https://localhost:8080/",
          "height": 34
        },
        "outputId": "6b402d03-e37d-42ce-d98e-da56c9cc5ae2"
      },
      "source": [
        "x = th.tensor([0.1, 0.2, 0.3, 0.4, 0.5])\n",
        "x"
      ],
      "execution_count": 97,
      "outputs": [
        {
          "output_type": "execute_result",
          "data": {
            "text/plain": [
              "tensor([0.1000, 0.2000, 0.3000, 0.4000, 0.5000])"
            ]
          },
          "metadata": {
            "tags": []
          },
          "execution_count": 97
        }
      ]
    },
    {
      "cell_type": "code",
      "metadata": {
        "id": "sOk0g4TR5kxV",
        "colab_type": "code",
        "colab": {}
      },
      "source": [
        "y = x + x"
      ],
      "execution_count": 0,
      "outputs": []
    },
    {
      "cell_type": "code",
      "metadata": {
        "id": "ggUOIivP5-5D",
        "colab_type": "code",
        "colab": {
          "base_uri": "https://localhost:8080/",
          "height": 34
        },
        "outputId": "d9b963db-265a-474b-bb04-8295dea0f81c"
      },
      "source": [
        "y"
      ],
      "execution_count": 99,
      "outputs": [
        {
          "output_type": "execute_result",
          "data": {
            "text/plain": [
              "tensor([0.2000, 0.4000, 0.6000, 0.8000, 1.0000])"
            ]
          },
          "metadata": {
            "tags": []
          },
          "execution_count": 99
        }
      ]
    },
    {
      "cell_type": "code",
      "metadata": {
        "id": "hvbC17mI6ER3",
        "colab_type": "code",
        "colab": {}
      },
      "source": [
        ""
      ],
      "execution_count": 0,
      "outputs": []
    }
  ]
}