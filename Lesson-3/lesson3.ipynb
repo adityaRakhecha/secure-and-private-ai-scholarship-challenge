{
  "nbformat": 4,
  "nbformat_minor": 0,
  "metadata": {
    "colab": {
      "name": "lesson3.ipynb",
      "version": "0.3.2",
      "provenance": [],
      "include_colab_link": true
    },
    "kernelspec": {
      "name": "python3",
      "display_name": "Python 3"
    }
  },
  "cells": [
    {
      "cell_type": "markdown",
      "metadata": {
        "id": "view-in-github",
        "colab_type": "text"
      },
      "source": [
        "<a href=\"https://colab.research.google.com/github/adityaRakhecha/secure-and-private-ai-scholarship-challenge/blob/master/Lesson-3/lesson3.ipynb\" target=\"_parent\"><img src=\"https://colab.research.google.com/assets/colab-badge.svg\" alt=\"Open In Colab\"/></a>"
      ]
    },
    {
      "cell_type": "code",
      "metadata": {
        "id": "GiG93Oqf2b-H",
        "colab_type": "code",
        "colab": {
          "base_uri": "https://localhost:8080/",
          "height": 35
        },
        "outputId": "ede7e1d8-7a66-438b-b92c-6e8404078681"
      },
      "source": [
        "import torch\n",
        "\n",
        "# number of entries in our database\n",
        "num_entries = 5000\n",
        "\n",
        "# create raw database\n",
        "db = torch.rand(num_entries) > 0.5\n",
        "db"
      ],
      "execution_count": 26,
      "outputs": [
        {
          "output_type": "execute_result",
          "data": {
            "text/plain": [
              "tensor([1, 0, 0,  ..., 0, 1, 0], dtype=torch.uint8)"
            ]
          },
          "metadata": {
            "tags": []
          },
          "execution_count": 26
        }
      ]
    },
    {
      "cell_type": "markdown",
      "metadata": {
        "id": "jn-RIR2q3c8V",
        "colab_type": "text"
      },
      "source": [
        "**Generate Parallel Databases**"
      ]
    },
    {
      "cell_type": "code",
      "metadata": {
        "id": "8R8DYqu533mP",
        "colab_type": "code",
        "colab": {
          "base_uri": "https://localhost:8080/",
          "height": 35
        },
        "outputId": "204bffc6-28d6-42a7-e752-08bc764d4c17"
      },
      "source": [
        "db[0:5]"
      ],
      "execution_count": 27,
      "outputs": [
        {
          "output_type": "execute_result",
          "data": {
            "text/plain": [
              "tensor([1, 0, 0, 1, 0], dtype=torch.uint8)"
            ]
          },
          "metadata": {
            "tags": []
          },
          "execution_count": 27
        }
      ]
    },
    {
      "cell_type": "code",
      "metadata": {
        "id": "qBVBgs772uGy",
        "colab_type": "code",
        "colab": {}
      },
      "source": [
        "remove_index = 2"
      ],
      "execution_count": 0,
      "outputs": []
    },
    {
      "cell_type": "code",
      "metadata": {
        "id": "cduN043936us",
        "colab_type": "code",
        "colab": {}
      },
      "source": [
        "# function to generate a parallel database with one entry removed\n",
        "def get_parallel_db(db, remove_index):\n",
        "  \n",
        "  return torch.cat((db[0:remove_index],\n",
        "                    db[remove_index+1:]))"
      ],
      "execution_count": 0,
      "outputs": []
    },
    {
      "cell_type": "code",
      "metadata": {
        "id": "RZ7GwGEw3-Vc",
        "colab_type": "code",
        "colab": {
          "base_uri": "https://localhost:8080/",
          "height": 35
        },
        "outputId": "b9bc8192-bd72-4f53-9008-85f849fc2fdc"
      },
      "source": [
        "get_parallel_db(db,2).shape"
      ],
      "execution_count": 30,
      "outputs": [
        {
          "output_type": "execute_result",
          "data": {
            "text/plain": [
              "torch.Size([4999])"
            ]
          },
          "metadata": {
            "tags": []
          },
          "execution_count": 30
        }
      ]
    },
    {
      "cell_type": "code",
      "metadata": {
        "id": "Vf4wki9G4p_N",
        "colab_type": "code",
        "colab": {}
      },
      "source": [
        "# function to generate parallel databases with one entry removed from each of the entries\n",
        "def get_parallel_dbs(db):\n",
        "  parallel_dbs = list()\n",
        "  \n",
        "  for i in range(len(db)):\n",
        "    pdb = get_parallel_db(db, i)\n",
        "    parallel_dbs.append(pdb)\n",
        "    \n",
        "  return parallel_dbs"
      ],
      "execution_count": 0,
      "outputs": []
    },
    {
      "cell_type": "code",
      "metadata": {
        "id": "jHolL_mt5CYl",
        "colab_type": "code",
        "colab": {}
      },
      "source": [
        "pdbs = get_parallel_dbs(db)"
      ],
      "execution_count": 0,
      "outputs": []
    },
    {
      "cell_type": "code",
      "metadata": {
        "id": "HSUqjovj5Qso",
        "colab_type": "code",
        "colab": {
          "base_uri": "https://localhost:8080/",
          "height": 35
        },
        "outputId": "20bc97c6-4b2b-4c10-fd9a-5b13d754f1c9"
      },
      "source": [
        "len(pdbs)"
      ],
      "execution_count": 33,
      "outputs": [
        {
          "output_type": "execute_result",
          "data": {
            "text/plain": [
              "5000"
            ]
          },
          "metadata": {
            "tags": []
          },
          "execution_count": 33
        }
      ]
    },
    {
      "cell_type": "code",
      "metadata": {
        "id": "TcE79d6W5ZtS",
        "colab_type": "code",
        "colab": {}
      },
      "source": [
        "# function to create and generate parallel databases\n",
        "def create_db_and_parallels(num_entries):\n",
        "  \n",
        "  db = torch.rand(num_entries) > 0.5\n",
        "  pdbs = get_parallel_dbs(db)\n",
        "  \n",
        "  return db, pdbs"
      ],
      "execution_count": 0,
      "outputs": []
    },
    {
      "cell_type": "code",
      "metadata": {
        "id": "Hj63E6En8CAj",
        "colab_type": "code",
        "colab": {}
      },
      "source": [
        "db, pdbs = create_db_and_parallels(20)"
      ],
      "execution_count": 0,
      "outputs": []
    },
    {
      "cell_type": "code",
      "metadata": {
        "id": "92hctCBp8LIh",
        "colab_type": "code",
        "colab": {
          "base_uri": "https://localhost:8080/",
          "height": 727
        },
        "outputId": "64d34695-d545-49b9-a0fb-8a725ec93a22"
      },
      "source": [
        "pdbs"
      ],
      "execution_count": 36,
      "outputs": [
        {
          "output_type": "execute_result",
          "data": {
            "text/plain": [
              "[tensor([1, 1, 0, 1, 0, 1, 0, 0, 1, 1, 1, 1, 1, 0, 0, 0, 0, 0, 1],\n",
              "        dtype=torch.uint8),\n",
              " tensor([1, 1, 0, 1, 0, 1, 0, 0, 1, 1, 1, 1, 1, 0, 0, 0, 0, 0, 1],\n",
              "        dtype=torch.uint8),\n",
              " tensor([1, 1, 0, 1, 0, 1, 0, 0, 1, 1, 1, 1, 1, 0, 0, 0, 0, 0, 1],\n",
              "        dtype=torch.uint8),\n",
              " tensor([1, 1, 1, 1, 0, 1, 0, 0, 1, 1, 1, 1, 1, 0, 0, 0, 0, 0, 1],\n",
              "        dtype=torch.uint8),\n",
              " tensor([1, 1, 1, 0, 0, 1, 0, 0, 1, 1, 1, 1, 1, 0, 0, 0, 0, 0, 1],\n",
              "        dtype=torch.uint8),\n",
              " tensor([1, 1, 1, 0, 1, 1, 0, 0, 1, 1, 1, 1, 1, 0, 0, 0, 0, 0, 1],\n",
              "        dtype=torch.uint8),\n",
              " tensor([1, 1, 1, 0, 1, 0, 0, 0, 1, 1, 1, 1, 1, 0, 0, 0, 0, 0, 1],\n",
              "        dtype=torch.uint8),\n",
              " tensor([1, 1, 1, 0, 1, 0, 1, 0, 1, 1, 1, 1, 1, 0, 0, 0, 0, 0, 1],\n",
              "        dtype=torch.uint8),\n",
              " tensor([1, 1, 1, 0, 1, 0, 1, 0, 1, 1, 1, 1, 1, 0, 0, 0, 0, 0, 1],\n",
              "        dtype=torch.uint8),\n",
              " tensor([1, 1, 1, 0, 1, 0, 1, 0, 0, 1, 1, 1, 1, 0, 0, 0, 0, 0, 1],\n",
              "        dtype=torch.uint8),\n",
              " tensor([1, 1, 1, 0, 1, 0, 1, 0, 0, 1, 1, 1, 1, 0, 0, 0, 0, 0, 1],\n",
              "        dtype=torch.uint8),\n",
              " tensor([1, 1, 1, 0, 1, 0, 1, 0, 0, 1, 1, 1, 1, 0, 0, 0, 0, 0, 1],\n",
              "        dtype=torch.uint8),\n",
              " tensor([1, 1, 1, 0, 1, 0, 1, 0, 0, 1, 1, 1, 1, 0, 0, 0, 0, 0, 1],\n",
              "        dtype=torch.uint8),\n",
              " tensor([1, 1, 1, 0, 1, 0, 1, 0, 0, 1, 1, 1, 1, 0, 0, 0, 0, 0, 1],\n",
              "        dtype=torch.uint8),\n",
              " tensor([1, 1, 1, 0, 1, 0, 1, 0, 0, 1, 1, 1, 1, 1, 0, 0, 0, 0, 1],\n",
              "        dtype=torch.uint8),\n",
              " tensor([1, 1, 1, 0, 1, 0, 1, 0, 0, 1, 1, 1, 1, 1, 0, 0, 0, 0, 1],\n",
              "        dtype=torch.uint8),\n",
              " tensor([1, 1, 1, 0, 1, 0, 1, 0, 0, 1, 1, 1, 1, 1, 0, 0, 0, 0, 1],\n",
              "        dtype=torch.uint8),\n",
              " tensor([1, 1, 1, 0, 1, 0, 1, 0, 0, 1, 1, 1, 1, 1, 0, 0, 0, 0, 1],\n",
              "        dtype=torch.uint8),\n",
              " tensor([1, 1, 1, 0, 1, 0, 1, 0, 0, 1, 1, 1, 1, 1, 0, 0, 0, 0, 1],\n",
              "        dtype=torch.uint8),\n",
              " tensor([1, 1, 1, 0, 1, 0, 1, 0, 0, 1, 1, 1, 1, 1, 0, 0, 0, 0, 0],\n",
              "        dtype=torch.uint8)]"
            ]
          },
          "metadata": {
            "tags": []
          },
          "execution_count": 36
        }
      ]
    },
    {
      "cell_type": "code",
      "metadata": {
        "id": "XJnuS8wY8VPC",
        "colab_type": "code",
        "colab": {}
      },
      "source": [
        ""
      ],
      "execution_count": 0,
      "outputs": []
    }
  ]
}